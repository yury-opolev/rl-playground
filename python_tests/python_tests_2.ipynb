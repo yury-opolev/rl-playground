{
 "cells": [
  {
   "cell_type": "code",
   "execution_count": 1,
   "id": "99478d3a-34f2-4902-8038-7dc408ea24a2",
   "metadata": {},
   "outputs": [
    {
     "name": "stdout",
     "output_type": "stream",
     "text": [
      "numpy version: 1.24.3\n"
     ]
    }
   ],
   "source": [
    "import numpy as np\n",
    "\n",
    "print(f\"numpy version: {np.__version__}\")"
   ]
  },
  {
   "cell_type": "code",
   "execution_count": 7,
   "id": "2c45b039-089a-404c-ad47-bdbdc72c1b27",
   "metadata": {},
   "outputs": [
    {
     "data": {
      "text/plain": [
       "array([0., 0., 0., 0., 0., 0., 0., 0., 0.])"
      ]
     },
     "execution_count": 7,
     "metadata": {},
     "output_type": "execute_result"
    }
   ],
   "source": [
    "x = np.zeros(9)\n",
    "x"
   ]
  },
  {
   "cell_type": "code",
   "execution_count": 10,
   "id": "32171a1b-bf9d-4645-a56f-776bee8f7c9d",
   "metadata": {},
   "outputs": [],
   "source": [
    "def get_action_index(action):\n",
    "    x, y = action\n",
    "    action_index = x * 3 + y\n",
    "    return action_index"
   ]
  },
  {
   "cell_type": "code",
   "execution_count": 13,
   "id": "e7de8738-ca10-45ae-9648-c2a1deab1d3d",
   "metadata": {},
   "outputs": [
    {
     "name": "stdout",
     "output_type": "stream",
     "text": [
      "0\n",
      "1\n",
      "2\n",
      "3\n",
      "4\n",
      "5\n",
      "6\n",
      "7\n",
      "8\n"
     ]
    }
   ],
   "source": [
    "print(get_action_index((0,0)))\n",
    "print(get_action_index((0,1)))\n",
    "print(get_action_index((0,2)))\n",
    "print(get_action_index((1,0)))\n",
    "print(get_action_index((1,1)))\n",
    "print(get_action_index((1,2)))\n",
    "print(get_action_index((2,0)))\n",
    "print(get_action_index((2,1)))\n",
    "print(get_action_index((2,2)))"
   ]
  },
  {
   "cell_type": "code",
   "execution_count": 15,
   "id": "a7bc298e-b913-45fa-afb0-a4d806150501",
   "metadata": {},
   "outputs": [],
   "source": [
    "def get_state_key(state):\n",
    "    return ''.join([f\"{int(item)}\" for item in state])"
   ]
  },
  {
   "cell_type": "code",
   "execution_count": 16,
   "id": "4b0350d8-e45b-4242-86b1-1581f3948cfd",
   "metadata": {},
   "outputs": [
    {
     "data": {
      "text/plain": [
       "'1010'"
      ]
     },
     "execution_count": 16,
     "metadata": {},
     "output_type": "execute_result"
    }
   ],
   "source": [
    "get_state_key([1.0, 0.0, 1.0, 0.0])"
   ]
  },
  {
   "cell_type": "code",
   "execution_count": null,
   "id": "388c29de-f4e0-4d46-9d87-2697510cf87f",
   "metadata": {},
   "outputs": [],
   "source": []
  }
 ],
 "metadata": {
  "kernelspec": {
   "display_name": "Python 3 (ipykernel)",
   "language": "python",
   "name": "python3"
  },
  "language_info": {
   "codemirror_mode": {
    "name": "ipython",
    "version": 3
   },
   "file_extension": ".py",
   "mimetype": "text/x-python",
   "name": "python",
   "nbconvert_exporter": "python",
   "pygments_lexer": "ipython3",
   "version": "3.11.5"
  }
 },
 "nbformat": 4,
 "nbformat_minor": 5
}
