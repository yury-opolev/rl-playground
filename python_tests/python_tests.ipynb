{
 "cells": [
  {
   "cell_type": "code",
   "execution_count": 18,
   "id": "f26f8585-38d1-44c1-b10c-c2f33c87d905",
   "metadata": {},
   "outputs": [
    {
     "name": "stdout",
     "output_type": "stream",
     "text": [
      "numpy version: 1.24.3\n",
      "no\n",
      "yes (2)\n"
     ]
    }
   ],
   "source": [
    "import numpy as np\n",
    "\n",
    "print(f\"numpy version: {np.__version__}\")\n",
    "\n",
    "s = np.random.binomial(1, 0.5)\n",
    "\n",
    "if (s):\n",
    "    print(\"yes\")\n",
    "else:\n",
    "    print(\"no\")\n",
    "\n",
    "if np.random.binomial(1, 0.5):\n",
    "    print(\"yes (2)\")\n",
    "else:\n",
    "    print(\"no (2)\")"
   ]
  },
  {
   "cell_type": "code",
   "execution_count": null,
   "id": "6abb0e54-7f3c-41a7-8af4-2a8cf5762efe",
   "metadata": {},
   "outputs": [],
   "source": []
  },
  {
   "cell_type": "code",
   "execution_count": 21,
   "id": "dfcd7c95-be1a-4ba1-a349-063a190044be",
   "metadata": {},
   "outputs": [
    {
     "name": "stdout",
     "output_type": "stream",
     "text": [
      "moviepy version: 1.0.3\n"
     ]
    }
   ],
   "source": [
    "import moviepy\n",
    "\n",
    "print(f\"moviepy version: {moviepy.__version__}\")"
   ]
  },
  {
   "cell_type": "code",
   "execution_count": 22,
   "id": "7adbbd12-5bce-433a-bcb6-0ce8c7e151d2",
   "metadata": {},
   "outputs": [
    {
     "name": "stdout",
     "output_type": "stream",
     "text": [
      "tensorflow version: 2.16.1\n"
     ]
    }
   ],
   "source": [
    "import tensorflow as tf\n",
    "\n",
    "print(f\"tensorflow version: {tf.__version__}\")"
   ]
  },
  {
   "cell_type": "code",
   "execution_count": 36,
   "id": "55ef5939-1291-4d33-809c-206b102d9312",
   "metadata": {},
   "outputs": [],
   "source": [
    "states = tf.convert_to_tensor([[1.0, 2.0], [2.0, 3.0], [3.0, 4.0]], dtype=tf.float32)\n",
    "actions = tf.convert_to_tensor([1, 0, 1], dtype=tf.int64)\n",
    "rewards = tf.convert_to_tensor([0.5, 0.4, 0.6], dtype=tf.float32)\n",
    "next_states = tf.convert_to_tensor([[1.5, 2.5], [2.5, 3.5], [3.5, 4.5]], dtype=tf.float32)\n",
    "is_done = tf.convert_to_tensor([0, 0, 1], dtype=tf.uint8)\n"
   ]
  },
  {
   "cell_type": "code",
   "execution_count": 49,
   "id": "81b7b0f2-7458-4905-abd4-dc558ec12565",
   "metadata": {},
   "outputs": [
    {
     "name": "stdout",
     "output_type": "stream",
     "text": [
      "predicted_qvalues:\n",
      " [[0.75 0.1 ]\n",
      " [0.25 0.5 ]\n",
      " [0.4  0.6 ]]\n",
      "one_hot:\n",
      " [[0. 1.]\n",
      " [1. 0.]\n",
      " [0. 1.]]\n",
      "predicted_qvalues_for_actions:\n",
      " [0.1  0.25 0.6 ]\n",
      "predicted_next_qvalues:\n",
      " [[0.45 0.25]\n",
      " [0.33 0.44]\n",
      " [0.28 0.74]]\n",
      "next_state_values:\n",
      " [0.45 0.44 0.74]\n"
     ]
    }
   ],
   "source": [
    "predicted_qvalues = tf.convert_to_tensor([[0.75, 0.1], [0.25, 0.5], [0.4, 0.6]], dtype=tf.float32)\n",
    "print(f\"predicted_qvalues:\\n {predicted_qvalues}\")\n",
    "\n",
    "one_hot = tf.one_hot(actions, 2)\n",
    "print(f\"one_hot:\\n {one_hot}\")\n",
    "\n",
    "predicted_qvalues_for_actions = tf.reduce_sum(predicted_qvalues * one_hot, axis=-1)\n",
    "print(f\"predicted_qvalues_for_actions:\\n {predicted_qvalues_for_actions}\")\n",
    "\n",
    "predicted_next_qvalues = tf.convert_to_tensor([[0.45, 0.25], [0.33, 0.44], [0.28, 0.74]], dtype=tf.float32)\n",
    "print(f\"predicted_next_qvalues:\\n {predicted_next_qvalues}\")\n",
    "\n",
    "next_state_values = tf.reduce_max(predicted_next_qvalues, axis=-1)\n",
    "print(f\"next_state_values:\\n {next_state_values}\")"
   ]
  },
  {
   "cell_type": "code",
   "execution_count": null,
   "id": "10c0c79f-bda8-40c4-919c-4f14c2801257",
   "metadata": {},
   "outputs": [],
   "source": []
  }
 ],
 "metadata": {
  "kernelspec": {
   "display_name": "Python 3 (ipykernel)",
   "language": "python",
   "name": "python3"
  },
  "language_info": {
   "codemirror_mode": {
    "name": "ipython",
    "version": 3
   },
   "file_extension": ".py",
   "mimetype": "text/x-python",
   "name": "python",
   "nbconvert_exporter": "python",
   "pygments_lexer": "ipython3",
   "version": "3.11.5"
  }
 },
 "nbformat": 4,
 "nbformat_minor": 5
}
