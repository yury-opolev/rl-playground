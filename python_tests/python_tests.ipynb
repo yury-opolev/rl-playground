{
 "cells": [
  {
   "cell_type": "code",
   "execution_count": 18,
   "id": "f26f8585-38d1-44c1-b10c-c2f33c87d905",
   "metadata": {},
   "outputs": [
    {
     "name": "stdout",
     "output_type": "stream",
     "text": [
      "numpy version: 1.24.3\n",
      "no\n",
      "yes (2)\n"
     ]
    }
   ],
   "source": [
    "import numpy as np\n",
    "\n",
    "print(f\"numpy version: {np.__version__}\")\n",
    "\n",
    "s = np.random.binomial(1, 0.5)\n",
    "\n",
    "if (s):\n",
    "    print(\"yes\")\n",
    "else:\n",
    "    print(\"no\")\n",
    "\n",
    "if np.random.binomial(1, 0.5):\n",
    "    print(\"yes (2)\")\n",
    "else:\n",
    "    print(\"no (2)\")"
   ]
  },
  {
   "cell_type": "code",
   "execution_count": null,
   "id": "6abb0e54-7f3c-41a7-8af4-2a8cf5762efe",
   "metadata": {},
   "outputs": [],
   "source": []
  },
  {
   "cell_type": "code",
   "execution_count": 21,
   "id": "dfcd7c95-be1a-4ba1-a349-063a190044be",
   "metadata": {},
   "outputs": [
    {
     "name": "stdout",
     "output_type": "stream",
     "text": [
      "moviepy version: 1.0.3\n"
     ]
    }
   ],
   "source": [
    "import moviepy\n",
    "\n",
    "print(f\"moviepy version: {moviepy.__version__}\")"
   ]
  },
  {
   "cell_type": "code",
   "execution_count": 22,
   "id": "7adbbd12-5bce-433a-bcb6-0ce8c7e151d2",
   "metadata": {},
   "outputs": [
    {
     "name": "stdout",
     "output_type": "stream",
     "text": [
      "tensorflow version: 2.16.1\n"
     ]
    }
   ],
   "source": [
    "import tensorflow as tf\n",
    "\n",
    "print(f\"tensorflow version: {tf.__version__}\")"
   ]
  },
  {
   "cell_type": "code",
   "execution_count": 36,
   "id": "55ef5939-1291-4d33-809c-206b102d9312",
   "metadata": {},
   "outputs": [],
   "source": [
    "states = tf.convert_to_tensor([[1.0, 2.0], [2.0, 3.0], [3.0, 4.0]], dtype=tf.float32)\n",
    "actions = tf.convert_to_tensor([1, 0, 1], dtype=tf.int64)\n",
    "rewards = tf.convert_to_tensor([0.5, 0.4, 0.6], dtype=tf.float32)\n",
    "next_states = tf.convert_to_tensor([[1.5, 2.5], [2.5, 3.5], [3.5, 4.5]], dtype=tf.float32)\n",
    "is_done = tf.convert_to_tensor([0, 0, 1], dtype=tf.uint8)\n"
   ]
  },
  {
   "cell_type": "code",
   "execution_count": 49,
   "id": "81b7b0f2-7458-4905-abd4-dc558ec12565",
   "metadata": {},
   "outputs": [
    {
     "name": "stdout",
     "output_type": "stream",
     "text": [
      "predicted_qvalues:\n",
      " [[0.75 0.1 ]\n",
      " [0.25 0.5 ]\n",
      " [0.4  0.6 ]]\n",
      "one_hot:\n",
      " [[0. 1.]\n",
      " [1. 0.]\n",
      " [0. 1.]]\n",
      "predicted_qvalues_for_actions:\n",
      " [0.1  0.25 0.6 ]\n",
      "predicted_next_qvalues:\n",
      " [[0.45 0.25]\n",
      " [0.33 0.44]\n",
      " [0.28 0.74]]\n",
      "next_state_values:\n",
      " [0.45 0.44 0.74]\n"
     ]
    }
   ],
   "source": [
    "predicted_qvalues = tf.convert_to_tensor([[0.75, 0.1], [0.25, 0.5], [0.4, 0.6]], dtype=tf.float32)\n",
    "print(f\"predicted_qvalues:\\n {predicted_qvalues}\")\n",
    "\n",
    "one_hot = tf.one_hot(actions, 2)\n",
    "print(f\"one_hot:\\n {one_hot}\")\n",
    "\n",
    "predicted_qvalues_for_actions = tf.reduce_sum(predicted_qvalues * one_hot, axis=-1)\n",
    "print(f\"predicted_qvalues_for_actions:\\n {predicted_qvalues_for_actions}\")\n",
    "\n",
    "predicted_next_qvalues = tf.convert_to_tensor([[0.45, 0.25], [0.33, 0.44], [0.28, 0.74]], dtype=tf.float32)\n",
    "print(f\"predicted_next_qvalues:\\n {predicted_next_qvalues}\")\n",
    "\n",
    "next_state_values = tf.reduce_max(predicted_next_qvalues, axis=-1)\n",
    "print(f\"next_state_values:\\n {next_state_values}\")"
   ]
  },
  {
   "cell_type": "code",
   "execution_count": 5,
   "id": "67f89b71-67d8-47fa-939d-a921276ec81b",
   "metadata": {},
   "outputs": [
    {
     "data": {
      "text/plain": [
       "0"
      ]
     },
     "execution_count": 5,
     "metadata": {},
     "output_type": "execute_result"
    }
   ],
   "source": [
    "import numpy as np\n",
    "\n",
    "np.random.binomial(1, 0.5)"
   ]
  },
  {
   "cell_type": "code",
   "execution_count": 11,
   "id": "10c0c79f-bda8-40c4-919c-4f14c2801257",
   "metadata": {},
   "outputs": [
    {
     "name": "stdout",
     "output_type": "stream",
     "text": [
      "not 0\n",
      "1\n",
      "2\n"
     ]
    }
   ],
   "source": [
    "if 0:\n",
    "    print(\"0\")\n",
    "else:\n",
    "    print(\"not 0\")\n",
    "    \n",
    "if 1:\n",
    "    print(\"1\")\n",
    "else:\n",
    "    print(\"not 1\")\n",
    "\n",
    "if 2:\n",
    "    print(\"2\")\n",
    "else:\n",
    "    print(\"not 2\")"
   ]
  },
  {
   "cell_type": "code",
   "execution_count": 15,
   "id": "3e456cc9-80fd-48fb-be50-318cf59ca868",
   "metadata": {},
   "outputs": [
    {
     "name": "stdout",
     "output_type": "stream",
     "text": [
      "tensorflow version: 2.16.1\n",
      "keras version: 3.3.3\n"
     ]
    }
   ],
   "source": [
    "import tensorflow as tf\n",
    "import keras\n",
    "\n",
    "print(f\"tensorflow version: {tf.__version__}\")\n",
    "print(f\"keras version: {keras.__version__}\")\n"
   ]
  },
  {
   "cell_type": "code",
   "execution_count": 18,
   "id": "228709fb-9efa-4a52-a3c5-b021ede27a61",
   "metadata": {},
   "outputs": [
    {
     "name": "stdout",
     "output_type": "stream",
     "text": [
      "weights: [<KerasVariable shape=(2, 1), dtype=float32, path=sequential/dense/kernel>, <KerasVariable shape=(1,), dtype=float32, path=sequential/dense/bias>]\n"
     ]
    }
   ],
   "source": [
    "nn_model = keras.models.Sequential([\n",
    "    keras.layers.Input(shape=(2,)),\n",
    "    keras.layers.Dense(1, activation='sigmoid',\n",
    "                 kernel_initializer=keras.initializers.RandomNormal(stddev=0.05),\n",
    "                 bias_initializer=keras.initializers.RandomNormal(stddev=0.05))\n",
    "    ])\n",
    "\n",
    "print(f\"weights: {nn_model.trainable_weights}\")"
   ]
  },
  {
   "cell_type": "code",
   "execution_count": 19,
   "id": "f042c159-3e6c-4473-91b7-471f1e241537",
   "metadata": {},
   "outputs": [
    {
     "data": {
      "text/plain": [
       "<KerasVariable shape=(2, 1), dtype=float32, path=sequential/dense/kernel>"
      ]
     },
     "execution_count": 19,
     "metadata": {},
     "output_type": "execute_result"
    }
   ],
   "source": [
    "nn_model.trainable_weights[0]\n"
   ]
  },
  {
   "cell_type": "code",
   "execution_count": 20,
   "id": "5bc019c7-4419-4a7d-9b79-4730371255d0",
   "metadata": {},
   "outputs": [
    {
     "data": {
      "text/plain": [
       "<KerasVariable shape=(1,), dtype=float32, path=sequential/dense/bias>"
      ]
     },
     "execution_count": 20,
     "metadata": {},
     "output_type": "execute_result"
    }
   ],
   "source": [
    "nn_model.trainable_weights[1]"
   ]
  },
  {
   "cell_type": "code",
   "execution_count": 22,
   "id": "a036fd7f-7d16-47c5-b31d-dedcb80a2869",
   "metadata": {},
   "outputs": [
    {
     "name": "stdout",
     "output_type": "stream",
     "text": [
      "eligibility_traces: [<tf.Tensor: shape=(2, 1), dtype=float32, numpy=\n",
      "array([[0.],\n",
      "       [0.]], dtype=float32)>, <tf.Tensor: shape=(1,), dtype=float32, numpy=array([0.], dtype=float32)>]\n"
     ]
    }
   ],
   "source": [
    "eligibility_traces = [tf.zeros(weights.shape) for weights in nn_model.trainable_weights]\n",
    "\n",
    "print(f\"eligibility_traces: {eligibility_traces}\")"
   ]
  },
  {
   "cell_type": "code",
   "execution_count": 23,
   "id": "bda981e2-4776-43c4-8e80-876f75e9dd6d",
   "metadata": {},
   "outputs": [
    {
     "name": "stdout",
     "output_type": "stream",
     "text": [
      "<tf.Variable 'Variable:0' shape=(1, 2) dtype=float32, numpy=array([[1., 2.]], dtype=float32)>\n"
     ]
    }
   ],
   "source": [
    "state = tf.Variable([[1.0, 2.0]])\n",
    "print(state)"
   ]
  },
  {
   "cell_type": "code",
   "execution_count": 38,
   "id": "4b789770-8a84-44e8-9fe0-43b8097d8f31",
   "metadata": {},
   "outputs": [
    {
     "data": {
      "text/plain": [
       "<tf.Tensor: shape=(1, 1), dtype=float32, numpy=array([[0.5182955]], dtype=float32)>"
      ]
     },
     "execution_count": 38,
     "metadata": {},
     "output_type": "execute_result"
    }
   ],
   "source": [
    "nn_model(state)"
   ]
  },
  {
   "cell_type": "code",
   "execution_count": 25,
   "id": "a389cbd4-eec4-4e6d-bb95-652602e2feb7",
   "metadata": {},
   "outputs": [],
   "source": [
    "expected_value = [[0.6]]"
   ]
  },
  {
   "cell_type": "code",
   "execution_count": 35,
   "id": "3eaf3509-7d6e-48fe-b1f2-98f10df64a19",
   "metadata": {},
   "outputs": [
    {
     "name": "stdout",
     "output_type": "stream",
     "text": [
      "[<tf.Tensor: shape=(2, 1), dtype=float32, numpy=\n",
      "array([[0.24966528],\n",
      "       [0.49933055]], dtype=float32)>, <tf.Tensor: shape=(1,), dtype=float32, numpy=array([0.24966528], dtype=float32)>]\n",
      "[array([[-0.03440512],\n",
      "       [ 0.0381441 ]], dtype=float32), array([0.03133164], dtype=float32)]\n"
     ]
    }
   ],
   "source": [
    "with tf.GradientTape() as tape:\n",
    "    predicted_value = nn_model(state)\n",
    "    gradients = tape.gradient(predicted_value, nn_model.trainable_weights)\n",
    "\n",
    "print(gradients)\n",
    "print(nn_model.get_weights())"
   ]
  },
  {
   "cell_type": "code",
   "execution_count": 49,
   "id": "ebab0036-bb2b-4442-9050-0beb65709ed4",
   "metadata": {},
   "outputs": [
    {
     "name": "stdout",
     "output_type": "stream",
     "text": [
      "BEFORE:\n",
      "[array([[-0.03227917],\n",
      "       [ 0.04239601]], dtype=float32), array([0.03227585], dtype=float32)]\n",
      "PREDICTED: [[0.52118444]]\n",
      "EXPECTED: <tf.Variable 'Variable:0' shape=(1, 1) dtype=float32, numpy=array([[0.6]], dtype=float32)>\n",
      "AFTER:\n",
      "[array([[-0.03166107],\n",
      "       [ 0.04363221]], dtype=float32), array([0.03282153], dtype=float32)]\n",
      "ELIGIBILITY TRACES:\n",
      "[<tf.Tensor: shape=(2, 1), dtype=float32, numpy=\n",
      "array([[0.78424186],\n",
      "       [1.5684837 ]], dtype=float32)>, <tf.Tensor: shape=(1,), dtype=float32, numpy=array([0.69234675], dtype=float32)>]\n"
     ]
    }
   ],
   "source": [
    "print(\"BEFORE:\")\n",
    "print(nn_model.get_weights())\n",
    "\n",
    "predicted_value = nn_model(state)\n",
    "print(f\"PREDICTED: {predicted_value}\")\n",
    "expected_value = tf.Variable([[0.6]])\n",
    "print(f\"EXPECTED: {expected_value}\")\n",
    "\n",
    "output_dim = 1\n",
    "lamda = 0.7\n",
    "learning_rate = 0.01\n",
    "\n",
    "for i, gradient in enumerate(gradients):\n",
    "    eligibility_traces[i] = lamda * eligibility_traces[i] + gradient\n",
    "    weight = nn_model.trainable_weights[i]\n",
    "    weight.assign_add(learning_rate * tf.reshape(expected_value - predicted_value, shape=(output_dim,)) * eligibility_traces[i])\n",
    "\n",
    "print(\"AFTER:\")\n",
    "print(nn_model.get_weights())\n",
    "\n",
    "print(\"ELIGIBILITY TRACES:\")\n",
    "print(eligibility_traces)\n"
   ]
  },
  {
   "cell_type": "code",
   "execution_count": 50,
   "id": "0bc93e0e-14d0-4b09-bd89-9a945917e647",
   "metadata": {},
   "outputs": [
    {
     "name": "stdout",
     "output_type": "stream",
     "text": [
      "PREDICTED: [[0.52209187]]\n"
     ]
    }
   ],
   "source": [
    "predicted_value = nn_model(state)\n",
    "print(f\"PREDICTED: {predicted_value}\")"
   ]
  },
  {
   "cell_type": "code",
   "execution_count": 51,
   "id": "dfc2a6b6-5105-4a2f-bde5-fc7712570e8b",
   "metadata": {},
   "outputs": [
    {
     "name": "stdout",
     "output_type": "stream",
     "text": [
      "BEFORE:\n",
      "[array([[-0.03166107],\n",
      "       [ 0.04363221]], dtype=float32), array([0.03282153], dtype=float32)]\n",
      "PREDICTED: [[0.5235851]]\n",
      "EXPECTED: <tf.Variable 'Variable:0' shape=(1, 1) dtype=float32, numpy=array([[0.7]], dtype=float32)>\n",
      "AFTER:\n",
      "[array([[-0.03025216],\n",
      "       [ 0.04645003]], dtype=float32), array([0.03411696], dtype=float32)]\n",
      "ELIGIBILITY TRACES:\n",
      "[<tf.Tensor: shape=(2, 1), dtype=float32, numpy=\n",
      "array([[0.7986345],\n",
      "       [1.597269 ]], dtype=float32)>, <tf.Tensor: shape=(1,), dtype=float32, numpy=array([0.734308], dtype=float32)>]\n"
     ]
    }
   ],
   "source": [
    "state_2 = tf.Variable([[1.5, 2.5]])\n",
    "\n",
    "print(\"BEFORE:\")\n",
    "print(nn_model.get_weights())\n",
    "\n",
    "predicted_value = nn_model(state_2)\n",
    "print(f\"PREDICTED: {predicted_value}\")\n",
    "expected_value = tf.Variable([[0.7]])\n",
    "print(f\"EXPECTED: {expected_value}\")\n",
    "\n",
    "output_dim = 1\n",
    "lamda = 0.7\n",
    "learning_rate = 0.01\n",
    "\n",
    "for i, gradient in enumerate(gradients):\n",
    "    eligibility_traces[i] = lamda * eligibility_traces[i] + gradient\n",
    "    weight = nn_model.trainable_weights[i]\n",
    "    weight.assign_add(learning_rate * tf.reshape(expected_value - predicted_value, shape=(output_dim,)) * eligibility_traces[i])\n",
    "\n",
    "print(\"AFTER:\")\n",
    "print(nn_model.get_weights())\n",
    "\n",
    "print(\"ELIGIBILITY TRACES:\")\n",
    "print(eligibility_traces)"
   ]
  },
  {
   "cell_type": "code",
   "execution_count": 52,
   "id": "4bd7ef57-57f9-4a87-9e71-5370ade529fa",
   "metadata": {},
   "outputs": [
    {
     "data": {
      "text/plain": [
       "<tf.Tensor: shape=(1, 1), dtype=float32, numpy=array([[0.52619195]], dtype=float32)>"
      ]
     },
     "execution_count": 52,
     "metadata": {},
     "output_type": "execute_result"
    }
   ],
   "source": [
    "nn_model(state_2)"
   ]
  },
  {
   "cell_type": "code",
   "execution_count": 53,
   "id": "95044715-6907-4591-8028-c68006119fc8",
   "metadata": {},
   "outputs": [
    {
     "name": "stdout",
     "output_type": "stream",
     "text": [
      "[array([[-0.03025216],\n",
      "       [ 0.04645003]], dtype=float32), array([0.03411696], dtype=float32)]\n"
     ]
    }
   ],
   "source": [
    "print(nn_model.get_weights())"
   ]
  },
  {
   "cell_type": "code",
   "execution_count": 54,
   "id": "6e8436ad-346a-41b1-b448-c3b02ff8b221",
   "metadata": {},
   "outputs": [
    {
     "data": {
      "text/plain": [
       "<tf.Tensor: shape=(1, 1), dtype=float32, numpy=array([[0.52619195]], dtype=float32)>"
      ]
     },
     "execution_count": 54,
     "metadata": {},
     "output_type": "execute_result"
    }
   ],
   "source": [
    "state_3 = tf.Variable([[1.0, 1.0]])\n",
    "nn_model(state_2)"
   ]
  },
  {
   "cell_type": "code",
   "execution_count": 55,
   "id": "cb0f60e1-612a-4a99-b65b-fecc7db07551",
   "metadata": {},
   "outputs": [],
   "source": [
    "%load_ext tensorboard\n"
   ]
  },
  {
   "cell_type": "code",
   "execution_count": 60,
   "id": "5eb9e607-934c-483f-b754-2792f7c4c610",
   "metadata": {},
   "outputs": [
    {
     "data": {
      "text/plain": [
       "<tf.Tensor: shape=(1, 1), dtype=float32, numpy=array([[0.45999998]], dtype=float32)>"
      ]
     },
     "execution_count": 60,
     "metadata": {},
     "output_type": "execute_result"
    }
   ],
   "source": [
    "expected_value = [[1.0]]\n",
    "predicted_value = tf.Variable([[0.54]])\n",
    "\n",
    "expected_value - predicted_value"
   ]
  },
  {
   "cell_type": "code",
   "execution_count": null,
   "id": "568a59e6-ed7f-4bf2-ab7b-4d46713755e3",
   "metadata": {},
   "outputs": [],
   "source": []
  }
 ],
 "metadata": {
  "kernelspec": {
   "display_name": "Python 3 (ipykernel)",
   "language": "python",
   "name": "python3"
  },
  "language_info": {
   "codemirror_mode": {
    "name": "ipython",
    "version": 3
   },
   "file_extension": ".py",
   "mimetype": "text/x-python",
   "name": "python",
   "nbconvert_exporter": "python",
   "pygments_lexer": "ipython3",
   "version": "3.11.5"
  }
 },
 "nbformat": 4,
 "nbformat_minor": 5
}
