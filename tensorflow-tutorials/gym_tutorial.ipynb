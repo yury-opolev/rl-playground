{
 "cells": [
  {
   "cell_type": "code",
   "execution_count": 29,
   "id": "3d2df2ab-d018-4064-ae8a-92ea79f10f60",
   "metadata": {},
   "outputs": [
    {
     "name": "stdout",
     "output_type": "stream",
     "text": [
      "0.23.0\n"
     ]
    }
   ],
   "source": [
    "import gym\n",
    "import numpy as np\n",
    "import matplotlib.pyplot as plt\n",
    "\n",
    "print(gym.__version__)"
   ]
  },
  {
   "cell_type": "code",
   "execution_count": 6,
   "id": "fbebcc60-0df0-4dbd-8e7d-290f895da91f",
   "metadata": {
    "scrolled": true
   },
   "outputs": [],
   "source": [
    "env = gym.make('CartPole-v1')"
   ]
  },
  {
   "cell_type": "code",
   "execution_count": 7,
   "id": "d432014e-e5ff-4f9b-aca2-cd1b9fbdf276",
   "metadata": {},
   "outputs": [
    {
     "data": {
      "text/plain": [
       "array([ 0.04239517, -0.02910217,  0.03548126, -0.01628157], dtype=float32)"
      ]
     },
     "execution_count": 7,
     "metadata": {},
     "output_type": "execute_result"
    }
   ],
   "source": [
    "env.reset()"
   ]
  },
  {
   "cell_type": "code",
   "execution_count": 8,
   "id": "b22c8acd-e535-4b1d-90a7-84d07397fba2",
   "metadata": {},
   "outputs": [
    {
     "data": {
      "text/plain": [
       "Box([-4.8000002e+00 -3.4028235e+38 -4.1887903e-01 -3.4028235e+38], [4.8000002e+00 3.4028235e+38 4.1887903e-01 3.4028235e+38], (4,), float32)"
      ]
     },
     "execution_count": 8,
     "metadata": {},
     "output_type": "execute_result"
    }
   ],
   "source": [
    "env.observation_space"
   ]
  },
  {
   "cell_type": "code",
   "execution_count": 10,
   "id": "76202cc9-7654-48aa-9c32-dfaeadcb31f2",
   "metadata": {},
   "outputs": [
    {
     "data": {
      "text/plain": [
       "Discrete(2)"
      ]
     },
     "execution_count": 10,
     "metadata": {},
     "output_type": "execute_result"
    }
   ],
   "source": [
    "env.action_space"
   ]
  },
  {
   "cell_type": "code",
   "execution_count": 12,
   "id": "94529bc8-d0d0-4649-9027-105694676940",
   "metadata": {},
   "outputs": [
    {
     "name": "stdout",
     "output_type": "stream",
     "text": [
      "STEPS: 25\n"
     ]
    }
   ],
   "source": [
    "done = False\n",
    "step_count = 0\n",
    "\n",
    "env.reset()\n",
    "while not done:\n",
    "    step_count += 1\n",
    "    observation, reward, done, _ = env.step(env.action_space.sample())\n",
    "\n",
    "print(f\"STEPS: {step_count}\")"
   ]
  },
  {
   "cell_type": "code",
   "execution_count": 34,
   "id": "5afb27c4-feaa-4852-b8dd-87699cef3f79",
   "metadata": {},
   "outputs": [
    {
     "name": "stdout",
     "output_type": "stream",
     "text": [
      "FINISHED EPISODE: 10, BEST AVG STEPS: 380.1\n",
      "FINISHED EPISODE: 20, BEST AVG STEPS: 380.1\n",
      "FINISHED EPISODE: 30, BEST AVG STEPS: 433.1\n",
      "FINISHED EPISODE: 40, BEST AVG STEPS: 500.0\n",
      "FINISHED EPISODE: 50, BEST AVG STEPS: 500.0\n",
      "FINISHED EPISODE: 60, BEST AVG STEPS: 500.0\n",
      "FINISHED EPISODE: 70, BEST AVG STEPS: 500.0\n",
      "FINISHED EPISODE: 80, BEST AVG STEPS: 500.0\n",
      "FINISHED EPISODE: 90, BEST AVG STEPS: 500.0\n",
      "AVERAGE STEP COUNT: 500.0\n"
     ]
    },
    {
     "data": {
      "image/png": "[encoded data removed]",
      "text/plain": [
       "<Figure size 640x480 with 1 Axes>"
      ]
     },
     "metadata": {},
     "output_type": "display_data"
    }
   ],
   "source": [
    "best_weights = np.zeros(4)\n",
    "best_step_count = 0.0\n",
    "\n",
    "episode_lengths = np.empty(1000)\n",
    "i = 0\n",
    "for episode in range(100):\n",
    "    current_weights = -10.0 + 20.0 * np.random.rand(4)\n",
    "    avg_step_count = 0.0\n",
    "    for test_episode in range(10):\n",
    "        observation = env.reset()\n",
    "        done = False\n",
    "        step_count = 0\n",
    "        while not done:\n",
    "            step_count += 1\n",
    "            action = 1 if observation.dot(current_weights) > 0 else 0\n",
    "            observation, reward, done, _ = env.step(action)\n",
    "        avg_step_count += step_count\n",
    "\n",
    "    avg_step_count /= 10\n",
    "    episode_lengths[i] = avg_step_count\n",
    "    i += 1\n",
    "    \n",
    "    if avg_step_count > best_step_count:\n",
    "        best_weights = current_weights\n",
    "        best_step_count = avg_step_count\n",
    "\n",
    "    if (episode > 0) and (episode % 10 == 0):\n",
    "        print(f\"FINISHED EPISODE: {episode}, BEST AVG STEPS: {best_step_count}\")\n",
    "\n",
    "avg_step_count = 0.0\n",
    "for test_episode in range(100):\n",
    "    observation = env.reset()\n",
    "    done = False\n",
    "    step_count = 0\n",
    "    while not done:\n",
    "        step_count += 1\n",
    "        action = 1 if observation.dot(best_weights) > 0 else 0\n",
    "        observation, reward, done, _ = env.step(action)\n",
    "    avg_step_count += step_count\n",
    "avg_step_count /= 100\n",
    "\n",
    "print(f\"AVERAGE STEP COUNT: {avg_step_count}\")\n",
    "\n",
    "plt.plot(episode_lengths)\n",
    "plt.show()"
   ]
  },
  {
   "cell_type": "code",
   "execution_count": null,
   "id": "c69de861-e65f-495e-b6a1-547ab63c0340",
   "metadata": {},
   "outputs": [],
   "source": []
  },
  {
   "cell_type": "code",
   "execution_count": null,
   "id": "6feaaad8-1feb-46d0-90b2-efa2f5517b2e",
   "metadata": {},
   "outputs": [],
   "source": []
  }
 ],
 "metadata": {
  "kernelspec": {
   "display_name": "Python 3 (ipykernel)",
   "language": "python",
   "name": "python3"
  },
  "language_info": {
   "codemirror_mode": {
    "name": "ipython",
    "version": 3
   },
   "file_extension": ".py",
   "mimetype": "text/x-python",
   "name": "python",
   "nbconvert_exporter": "python",
   "pygments_lexer": "ipython3",
   "version": "3.12.3"
  }
 },
 "nbformat": 4,
 "nbformat_minor": 5
}
