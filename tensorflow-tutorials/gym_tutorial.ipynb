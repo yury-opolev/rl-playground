{
 "cells": [
  {
   "cell_type": "code",
   "execution_count": 1,
   "id": "3d2df2ab-d018-4064-ae8a-92ea79f10f60",
   "metadata": {},
   "outputs": [
    {
     "name": "stdout",
     "output_type": "stream",
     "text": [
      "0.29.1\n"
     ]
    }
   ],
   "source": [
    "import gymnasium as gym\n",
    "from gym.wrappers.monitoring.video_recorder import VideoRecorder\n",
    "import numpy as np\n",
    "import matplotlib.pyplot as plt\n",
    "\n",
    "print(gym.__version__)"
   ]
  },
  {
   "cell_type": "code",
   "execution_count": 2,
   "id": "818ab13d-500b-4fe6-9f1f-ac4b468a8486",
   "metadata": {},
   "outputs": [
    {
     "name": "stdout",
     "output_type": "stream",
     "text": [
      "Box([-4.8000002e+00 -3.4028235e+38 -4.1887903e-01 -3.4028235e+38], [4.8000002e+00 3.4028235e+38 4.1887903e-01 3.4028235e+38], (4,), float32)\n",
      "Discrete(2)\n"
     ]
    }
   ],
   "source": [
    "env = gym.make('CartPole-v1', render_mode='rgb_array')\n",
    "\n",
    "print(env.observation_space)\n",
    "print(env.action_space)"
   ]
  },
  {
   "cell_type": "code",
   "execution_count": 3,
   "id": "94529bc8-d0d0-4649-9027-105694676940",
   "metadata": {},
   "outputs": [
    {
     "name": "stdout",
     "output_type": "stream",
     "text": [
      "STEPS: 27\n"
     ]
    }
   ],
   "source": [
    "done = False\n",
    "step_count = 0\n",
    "\n",
    "env.reset()\n",
    "while not done:\n",
    "    step_count += 1\n",
    "    observation, reward, done, _, _ = env.step(env.action_space.sample())\n",
    "\n",
    "print(f\"STEPS: {step_count}\")"
   ]
  },
  {
   "cell_type": "code",
   "execution_count": 4,
   "id": "5afb27c4-feaa-4852-b8dd-87699cef3f79",
   "metadata": {},
   "outputs": [
    {
     "name": "stdout",
     "output_type": "stream",
     "text": [
      "FINISHED EPISODE: 10, BEST AVG STEPS: 85.6\n",
      "FINISHED EPISODE: 20, BEST AVG STEPS: 156.4\n",
      "FINISHED EPISODE: 30, BEST AVG STEPS: 1760.3\n",
      "FINISHED EPISODE: 40, BEST AVG STEPS: 1760.3\n",
      "FINISHED EPISODE: 50, BEST AVG STEPS: 1760.3\n",
      "FINISHED EPISODE: 60, BEST AVG STEPS: 1760.3\n",
      "FINISHED EPISODE: 70, BEST AVG STEPS: 3053.9\n",
      "FINISHED EPISODE: 80, BEST AVG STEPS: 3053.9\n",
      "FINISHED EPISODE: 90, BEST AVG STEPS: 3053.9\n",
      "AVERAGE STEP COUNT: 8006.5\n"
     ]
    },
    {
     "data": {
      "image/png": "[encoded data removed]",
      "text/plain": [
       "<Figure size 640x480 with 1 Axes>"
      ]
     },
     "metadata": {},
     "output_type": "display_data"
    }
   ],
   "source": [
    "best_weights = np.zeros(4)\n",
    "best_step_count = 0.0\n",
    "\n",
    "episode_lengths = np.empty(1000)\n",
    "i = 0\n",
    "for episode in range(100):\n",
    "    current_weights = -10.0 + 20.0 * np.random.rand(4)\n",
    "    avg_step_count = 0.0\n",
    "    for test_episode in range(10):\n",
    "        observation, _ = env.reset()\n",
    "        done = False\n",
    "        step_count = 0\n",
    "        while not done and (step_count < 10000):\n",
    "            step_count += 1\n",
    "            action = 1 if observation.dot(current_weights) > 0 else 0\n",
    "            observation, reward, done, _, _ = env.step(action)\n",
    "        avg_step_count += step_count\n",
    "\n",
    "    avg_step_count /= 10\n",
    "    episode_lengths[i] = avg_step_count\n",
    "    i += 1\n",
    "    \n",
    "    if avg_step_count > best_step_count:\n",
    "        best_weights = current_weights\n",
    "        best_step_count = avg_step_count\n",
    "\n",
    "    if (episode > 0) and (episode % 10 == 0):\n",
    "        print(f\"FINISHED EPISODE: {episode}, BEST AVG STEPS: {best_step_count}\")\n",
    "\n",
    "avg_step_count = 0.0\n",
    "for test_episode in range(100):\n",
    "    observation, _ = env.reset()\n",
    "    done = False\n",
    "    step_count = 0\n",
    "    while not done and (step_count < 10000):\n",
    "        step_count += 1\n",
    "        action = 1 if observation.dot(best_weights) > 0 else 0\n",
    "        observation, reward, done, _, _ = env.step(action)\n",
    "    avg_step_count += step_count\n",
    "avg_step_count /= 100\n",
    "\n",
    "print(f\"AVERAGE STEP COUNT: {avg_step_count}\")\n",
    "\n",
    "plt.plot(episode_lengths)\n",
    "plt.show()"
   ]
  },
  {
   "cell_type": "code",
   "execution_count": 5,
   "id": "c69de861-e65f-495e-b6a1-547ab63c0340",
   "metadata": {},
   "outputs": [
    {
     "name": "stdout",
     "output_type": "stream",
     "text": [
      "Moviepy - Building video final_result.mp4.\n",
      "Moviepy - Writing video final_result.mp4\n",
      "\n"
     ]
    },
    {
     "name": "stderr",
     "output_type": "stream",
     "text": [
      "                                                                                                                        "
     ]
    },
    {
     "name": "stdout",
     "output_type": "stream",
     "text": [
      "Moviepy - Done !\n",
      "Moviepy - video ready final_result.mp4\n"
     ]
    },
    {
     "name": "stderr",
     "output_type": "stream",
     "text": [
      "\r"
     ]
    }
   ],
   "source": [
    "recording_filename = \"final_result.mp4\"\n",
    "video = VideoRecorder(env, recording_filename)\n",
    "\n",
    "observation, _ = env.reset()\n",
    "done = False\n",
    "step_count = 0\n",
    "while not done and (step_count < 10000):\n",
    "    step_count += 1\n",
    "    env.render()\n",
    "    video.capture_frame()\n",
    "    action = 1 if observation.dot(best_weights) > 0 else 0\n",
    "    observation, reward, done, _, _ = env.step(action)\n",
    "\n",
    "video.close()\n",
    "env.close()"
   ]
  },
  {
   "cell_type": "code",
   "execution_count": null,
   "id": "900db736-72b4-45d5-9b7e-3499d18de252",
   "metadata": {},
   "outputs": [],
   "source": []
  }
 ],
 "metadata": {
  "kernelspec": {
   "display_name": "Python 3 (ipykernel)",
   "language": "python",
   "name": "python3"
  },
  "language_info": {
   "codemirror_mode": {
    "name": "ipython",
    "version": 3
   },
   "file_extension": ".py",
   "mimetype": "text/x-python",
   "name": "python",
   "nbconvert_exporter": "python",
   "pygments_lexer": "ipython3",
   "version": "3.12.3"
  }
 },
 "nbformat": 4,
 "nbformat_minor": 5
}
