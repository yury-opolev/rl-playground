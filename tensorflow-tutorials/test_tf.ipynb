{
 "cells": [
  {
   "cell_type": "code",
   "execution_count": 118,
   "id": "c760a2b1-9ab0-4366-ac63-38b967e356d0",
   "metadata": {},
   "outputs": [],
   "source": [
    "import tensorflow as tf\n",
    "import numpy as np\n",
    "\n",
    "inputs = tf.keras.Input(shape=(4,), dtype=tf.float32)\n",
    "inner_1 = tf.keras.layers.Dense(4, dtype=tf.float32, activation=tf.keras.activations.relu)(inputs)\n",
    "outputs = tf.keras.layers.Dense(2, activation=tf.keras.activations.sigmoid)(inner_1)\n",
    "model = tf.keras.Model(inputs=inputs, outputs=outputs)"
   ]
  },
  {
   "cell_type": "code",
   "execution_count": 123,
   "id": "648cce94-0a85-4c2b-bb95-5a259d8bd2c4",
   "metadata": {},
   "outputs": [
    {
     "name": "stdout",
     "output_type": "stream",
     "text": [
      "EXPECTED: [[0.5 1. ]]\n",
      "PREDICTION: [[0.5066519 0.9987269]]\n",
      "LOSS: [0.00665188 0.0012731 ]\n",
      "LOSS: [0.01948616 0.00116754]\n",
      "LOSS: [0.01817256 0.00111163]\n",
      "LOSS: [0.00771573 0.00107193]\n",
      "LOSS: [0.00730491 0.00104028]\n",
      "LOSS: [0.01225197 0.00099576]\n",
      "LOSS: [0.01055723 0.00094479]\n",
      "LOSS: [0.00417197 0.00089097]\n",
      "LOSS: [0.0056867  0.00083655]\n",
      "LOSS: [0.00967357 0.00079209]\n",
      "LOSS: [0.00904143 0.00075513]\n",
      "LOSS: [0.00469702 0.00072402]\n",
      "LOSS: [0.00268209 0.00069749]\n",
      "LOSS: [0.0055626  0.00066811]\n",
      "LOSS: [0.00467753 0.00063705]\n",
      "LOSS: [0.00061035 0.00060517]\n",
      "LOSS: [0.00616747 0.00057316]\n",
      "LOSS: [0.00899816 0.00054616]\n",
      "LOSS: [0.00842473 0.00052327]\n",
      "LOSS: [0.00489956 0.00050378]\n",
      "LOSS: [0.00119758 0.00048709]\n",
      "LOSS: [0.00367343 0.00046897]\n",
      "LOSS: [0.00297439 0.00044984]\n",
      "LOSS: [0.00051674 0.00043023]\n",
      "LOSS: [0.00079066 0.00041354]\n",
      "LOSS: [0.00177836 0.00039935]\n",
      "LOSS: [0.0012778  0.00038433]\n",
      "LOSS: [0.00194529 0.00036877]\n",
      "LOSS: [0.00207257 0.00035566]\n",
      "LOSS: [0.00055444 0.00034451]\n",
      "LOSS: [0.00017703 0.00033259]\n",
      "LOSS: [0.00287896 0.00032014]\n",
      "LOSS: [0.00291392 0.00030965]\n",
      "LOSS: [0.00025001 0.00030082]\n",
      "LOSS: [0.00482661 0.00029343]\n",
      "LOSS: [0.00670129 0.00028515]\n",
      "LOSS: [0.00571048 0.00027621]\n",
      "LOSS: [0.0021531  0.00026673]\n",
      "LOSS: [0.00370464 0.00025702]\n",
      "LOSS: [0.00631091 0.00024885]\n",
      "LOSS: [0.00600207 0.00024211]\n",
      "LOSS: [0.00307769 0.00023651]\n",
      "LOSS: [0.00219446 0.00023198]\n",
      "LOSS: [0.0042913  0.00022662]\n",
      "LOSS: [0.00353742 0.00022066]\n",
      "LOSS: [0.00022346 0.00021416]\n",
      "LOSS: [0.00539029 0.00020736]\n",
      "LOSS: [0.00780833 0.0002017 ]\n",
      "LOSS: [0.00735554 0.00019711]\n",
      "LOSS: [0.00432253 0.00019342]\n",
      "LOSS: [0.00103056 0.0001905 ]\n",
      "LOSS: [0.00322086 0.00018686]\n",
      "LOSS: [0.00256759 0.00018263]\n",
      "LOSS: [0.00064239 0.00017798]\n",
      "LOSS: [0.00091016 0.00017416]\n",
      "LOSS: [0.00146788 0.00017112]\n",
      "LOSS: [0.00098801 0.00016755]\n",
      "LOSS: [0.00206214 0.0001635 ]\n",
      "LOSS: [0.00218999 0.00016028]\n",
      "LOSS: [0.00031102 0.00015771]\n",
      "LOSS: [5.5283308e-05 1.5467405e-04]\n",
      "LOSS: [0.00223017 0.00015223]\n",
      "LOSS: [0.00167114 0.00014931]\n",
      "LOSS: [0.00144711 0.00014597]\n",
      "LOSS: [0.00163943 0.00014335]\n",
      "LOSS: [0.00080097 0.00014126]\n",
      "LOSS: [0.0003829 0.0001387]\n",
      "LOSS: [0.00260726 0.00013578]\n",
      "LOSS: [0.00268549 0.00013345]\n",
      "LOSS: [0.0001435  0.00013173]\n",
      "LOSS: [0.00475639 0.00013041]\n",
      "LOSS: [0.00655293 0.00012863]\n",
      "LOSS: [0.0055576  0.00012636]\n",
      "LOSS: [0.00204945 0.0001238 ]\n",
      "LOSS: [0.00371999 0.00012094]\n",
      "LOSS: [0.00630081 0.00011861]\n",
      "LOSS: [0.00601271 0.00011688]\n",
      "LOSS: [0.00314313 0.00011563]\n",
      "LOSS: [0.00205028 0.00011474]\n",
      "LOSS: [0.00411254 0.00011337]\n",
      "LOSS: [0.00335741 0.00011164]\n",
      "LOSS: [6.6936016e-05 1.0955334e-04]\n",
      "LOSS: [0.00550497 0.00010717]\n",
      "LOSS: [0.00790951 0.00010532]\n",
      "LOSS: [0.00746483 0.00010395]\n",
      "LOSS: [0.00445589 0.000103  ]\n",
      "LOSS: [0.00086153 0.00010234]\n",
      "LOSS: [0.00303692 0.00010127]\n",
      "LOSS: [2.384901e-03 9.983778e-05]\n",
      "LOSS: [8.1124902e-04 9.8109245e-05]\n",
      "LOSS: [1.0789931e-03 9.6857548e-05]\n",
      "LOSS: [1.2885928e-03 9.5903873e-05]\n",
      "LOSS: [8.1020594e-04 9.4592571e-05]\n",
      "LOSS: [2.2293031e-03 9.3042850e-05]\n",
      "LOSS: [2.3565888e-03 9.1850758e-05]\n",
      "LOSS: [1.3697147e-04 9.1016293e-05]\n",
      "LOSS: [2.2760034e-04 8.9883804e-05]\n",
      "LOSS: [2.0522475e-03 8.9049339e-05]\n",
      "LOSS: [1.4955997e-03 8.7916851e-05]\n",
      "LOSS: [1.6139448e-03 8.6486340e-05]\n",
      "AFTER CORRECTION: [[0.49819535 0.9999146 ]]\n"
     ]
    }
   ],
   "source": [
    "i = [1.,0.,-2.,0.]\n",
    "input = tf.convert_to_tensor([i], dtype=tf.float32)\n",
    "\n",
    "y = tf.convert_to_tensor([[0.5, 1.0]], dtype=tf.float32)\n",
    "print(f\"EXPECTED: {y}\")\n",
    "\n",
    "optimizer = tf.keras.optimizers.Adam(learning_rate = 0.01)\n",
    "\n",
    "test = model(input)\n",
    "print(f\"PREDICTION: {test.numpy()}\")\n",
    "\n",
    "for episode in range(100):\n",
    "    with tf.GradientTape() as tape:\n",
    "        y_hat = model(input)\n",
    "        loss = tf.abs(tf.subtract(y[0], y_hat[0]))\n",
    "        print(f\"LOSS: {loss}\")\n",
    "        grads = tape.gradient(loss, model.trainable_variables)\n",
    "    \n",
    "    optimizer.apply(grads, model.trainable_variables)\n",
    "    \n",
    "y_h2 = model(input)\n",
    "print(f\"AFTER CORRECTION: {y_h2.numpy()}\")\n"
   ]
  },
  {
   "cell_type": "code",
   "execution_count": 84,
   "id": "861c8c70-bd1d-46a8-9581-e738868510df",
   "metadata": {},
   "outputs": [
    {
     "name": "stdout",
     "output_type": "stream",
     "text": [
      "tf.Tensor([[0.3914091 0.5405224]], shape=(1, 2), dtype=float32)\n"
     ]
    }
   ],
   "source": [
    "print(prediction)"
   ]
  },
  {
   "cell_type": "code",
   "execution_count": 79,
   "id": "a203c91d-2021-4fb9-a176-42e977026887",
   "metadata": {},
   "outputs": [
    {
     "name": "stdout",
     "output_type": "stream",
     "text": [
      "tf.Tensor([[0.3914091 0.7405224]], shape=(1, 2), dtype=float32)\n"
     ]
    }
   ],
   "source": [
    "expected_p = tf.constant([[0.3914091, 0.7405224]])\n",
    "print(expected_p)"
   ]
  },
  {
   "cell_type": "code",
   "execution_count": null,
   "id": "7205a687-1b0c-4973-9f14-34a41ba2141e",
   "metadata": {},
   "outputs": [],
   "source": []
  }
 ],
 "metadata": {
  "kernelspec": {
   "display_name": "Python 3 (ipykernel)",
   "language": "python",
   "name": "python3"
  },
  "language_info": {
   "codemirror_mode": {
    "name": "ipython",
    "version": 3
   },
   "file_extension": ".py",
   "mimetype": "text/x-python",
   "name": "python",
   "nbconvert_exporter": "python",
   "pygments_lexer": "ipython3",
   "version": "3.12.3"
  }
 },
 "nbformat": 4,
 "nbformat_minor": 5
}
