{
 "cells": [
  {
   "cell_type": "code",
   "execution_count": 137,
   "id": "c760a2b1-9ab0-4366-ac63-38b967e356d0",
   "metadata": {},
   "outputs": [],
   "source": [
    "import tensorflow as tf\n",
    "import numpy as np\n",
    "\n",
    "inputs = tf.keras.Input(shape=(4,), dtype=tf.float32)\n",
    "inner_1 = tf.keras.layers.Dense(4, dtype=tf.float32, activation=tf.keras.activations.relu)(inputs)\n",
    "outputs = tf.keras.layers.Dense(2, activation=tf.keras.activations.sigmoid)(inner_1)\n",
    "model = tf.keras.Model(inputs=inputs, outputs=outputs)"
   ]
  },
  {
   "cell_type": "code",
   "execution_count": 138,
   "id": "648cce94-0a85-4c2b-bb95-5a259d8bd2c4",
   "metadata": {},
   "outputs": [
    {
     "name": "stdout",
     "output_type": "stream",
     "text": [
      "EXPECTED: [[0.5  0.99]]\n",
      "PREDICTION: [[0.6535209  0.61546206]]\n",
      "LOSS: [[0.15352088 0.37453794]]\n",
      "LOSS: [[0.13994002 0.37811816]]\n",
      "LOSS: [[0.12636864 0.38193357]]\n",
      "LOSS: [[0.11284924 0.3859768 ]]\n",
      "LOSS: [[0.09942871 0.3902349 ]]\n",
      "LOSS: [[0.08615792 0.39468813]]\n",
      "LOSS: [[0.07309258 0.39930886]]\n",
      "LOSS: [[0.06029344 0.40405917]]\n",
      "LOSS: [[0.04782647 0.40888923]]\n",
      "LOSS: [[0.0357635  0.41373575]]\n",
      "LOSS: [[0.02418166 0.4185202 ]]\n",
      "LOSS: [[0.01316309 0.4231478 ]]\n",
      "LOSS: [[0.00279355 0.42750776]]\n",
      "LOSS: [[0.0068402  0.43147534]]\n",
      "LOSS: [[0.00633565 0.42610484]]\n",
      "LOSS: [[0.00310516 0.41847515]]\n",
      "LOSS: [[0.00189853 0.4094321 ]]\n",
      "LOSS: [[0.00610536 0.40087038]]\n",
      "LOSS: [[0.00960886 0.39273167]]\n",
      "LOSS: [[0.0124895  0.38496214]]\n",
      "LOSS: [[0.01481694 0.3775121 ]]\n",
      "LOSS: [[0.01665312 0.37033617]]\n",
      "LOSS: [[0.01805264 0.3633926 ]]\n",
      "LOSS: [[0.01906466 0.35664284]]\n",
      "LOSS: [[0.01973337 0.35005176]]\n",
      "LOSS: [[0.02009875 0.34358698]]\n",
      "LOSS: [[0.02019691 0.33721852]]\n",
      "LOSS: [[0.02006042 0.33091903]]\n",
      "LOSS: [[0.01971865 0.32466328]]\n",
      "LOSS: [[0.01919806 0.31842798]]\n",
      "LOSS: [[0.01852185 0.31219232]]\n",
      "LOSS: [[0.01771057 0.3059373 ]]\n",
      "LOSS: [[0.01678199 0.2996459 ]]\n",
      "LOSS: [[0.01575118 0.2933033 ]]\n",
      "LOSS: [[0.01463068 0.28689682]]\n",
      "LOSS: [[0.01343054 0.28041595]]\n",
      "LOSS: [[0.01215833 0.27385253]]\n",
      "LOSS: [[0.01081932 0.2672007 ]]\n",
      "LOSS: [[0.00941664 0.26045698]]\n",
      "LOSS: [[0.00795126 0.25362033]]\n",
      "LOSS: [[0.00642222 0.24669224]]\n",
      "LOSS: [[0.00482666 0.23967671]]\n",
      "LOSS: [[0.00316024 0.23257983]]\n",
      "LOSS: [[0.00141692 0.2254104 ]]\n",
      "LOSS: [[0.00041032 0.2181791 ]]\n",
      "LOSS: [[1.3381243e-04 2.0930183e-01]]\n",
      "LOSS: [[0.00187004 0.19927621]]\n",
      "LOSS: [[0.00328851 0.18969357]]\n",
      "LOSS: [[0.0041362  0.18054205]]\n",
      "LOSS: [[0.00443041 0.17180914]]\n",
      "LOSS: [[0.00419015 0.16348153]]\n",
      "LOSS: [[0.00343573 0.15554553]]\n",
      "LOSS: [[0.00218844 0.14798671]]\n",
      "LOSS: [[0.00047004 0.1407904 ]]\n",
      "LOSS: [[0.00169736 0.13394165]]\n",
      "LOSS: [[0.00203994 0.12641495]]\n",
      "LOSS: [[0.00078607 0.11847073]]\n",
      "LOSS: [[0.00189555 0.11032277]]\n",
      "LOSS: [[0.00357127 0.10290998]]\n",
      "LOSS: [[0.00428522 0.09616935]]\n",
      "LOSS: [[0.00408816 0.09004056]]\n",
      "LOSS: [[0.00303572 0.08446652]]\n",
      "LOSS: [[0.00118595 0.07939368]]\n",
      "LOSS: [[0.00140184 0.07477236]]\n",
      "LOSS: [[0.00221997 0.06994182]]\n",
      "LOSS: [[0.00145778 0.06501973]]\n",
      "LOSS: [[0.00073522 0.06010199]]\n",
      "LOSS: [[0.00171131 0.05575204]]\n",
      "LOSS: [[0.00155133 0.05190116]]\n",
      "LOSS: [[0.0003404  0.04848778]]\n",
      "LOSS: [[0.00183445 0.0454573 ]]\n",
      "LOSS: [[0.00230297 0.04235083]]\n",
      "LOSS: [[0.00123683 0.0392276 ]]\n",
      "LOSS: [[0.00122368 0.0361352 ]]\n",
      "LOSS: [[0.00229979 0.03344768]]\n",
      "LOSS: [[0.0020985  0.03110915]]\n",
      "LOSS: [[0.00072879 0.02907139]]\n",
      "LOSS: [[0.00170052 0.02729273]]\n",
      "LOSS: [[0.00240165 0.0254522 ]]\n",
      "LOSS: [[0.00155121 0.02358401]]\n",
      "LOSS: [[0.00070471 0.02171618]]\n",
      "LOSS: [[0.00150502 0.02011174]]\n",
      "LOSS: [[0.00097531 0.01873267]]\n",
      "LOSS: [[0.00075987 0.01754665]]\n",
      "LOSS: [[0.00083822 0.01631051]]\n",
      "LOSS: [[0.00057423 0.01504648]]\n",
      "LOSS: [[0.00056982 0.01396853]]\n",
      "LOSS: [[0.00071871 0.01304972]]\n",
      "LOSS: [[0.0004003  0.01208436]]\n",
      "LOSS: [[0.0013659  0.01109016]]\n",
      "LOSS: [[0.00165558 0.01024938]]\n",
      "LOSS: [[0.00060803 0.0095399 ]]\n",
      "LOSS: [[0.00164145 0.00894296]]\n",
      "LOSS: [[0.00219709 0.00828934]]\n",
      "LOSS: [[0.00123414 0.00759399]]\n",
      "LOSS: [[0.00110042 0.00686991]]\n",
      "LOSS: [[0.00188208 0.00626481]]\n",
      "LOSS: [[0.00125754 0.0057618 ]]\n",
      "LOSS: [[0.00063151 0.00534636]]\n",
      "LOSS: [[0.00087017 0.00487912]]\n",
      "AFTER CORRECTION: [[0.50037193 0.98562825]]\n"
     ]
    }
   ],
   "source": [
    "i = [1.0, 0.2, -2.1, 0.5]\n",
    "input = tf.convert_to_tensor([i], dtype=tf.float32)\n",
    "\n",
    "y = tf.convert_to_tensor([[0.5, 0.99]], dtype=tf.float32)\n",
    "print(f\"EXPECTED: {y}\")\n",
    "\n",
    "optimizer = tf.keras.optimizers.Adam(learning_rate = 0.01)\n",
    "\n",
    "test = model(input)\n",
    "print(f\"PREDICTION: {test.numpy()}\")\n",
    "\n",
    "for episode in range(100):\n",
    "    with tf.GradientTape() as tape:\n",
    "        y_hat = model(input)\n",
    "        loss = tf.abs(tf.subtract(y, y_hat))\n",
    "        print(f\"LOSS: {loss}\")\n",
    "    grads = tape.gradient(loss, model.trainable_variables)\n",
    "    \n",
    "    optimizer.apply(grads, model.trainable_variables)\n",
    "    \n",
    "test = model(input)\n",
    "print(f\"AFTER CORRECTION: {test.numpy()}\")\n"
   ]
  },
  {
   "cell_type": "code",
   "execution_count": 84,
   "id": "861c8c70-bd1d-46a8-9581-e738868510df",
   "metadata": {},
   "outputs": [
    {
     "name": "stdout",
     "output_type": "stream",
     "text": [
      "tf.Tensor([[0.3914091 0.5405224]], shape=(1, 2), dtype=float32)\n"
     ]
    }
   ],
   "source": [
    "print(prediction)"
   ]
  },
  {
   "cell_type": "code",
   "execution_count": 79,
   "id": "a203c91d-2021-4fb9-a176-42e977026887",
   "metadata": {},
   "outputs": [
    {
     "name": "stdout",
     "output_type": "stream",
     "text": [
      "tf.Tensor([[0.3914091 0.7405224]], shape=(1, 2), dtype=float32)\n"
     ]
    }
   ],
   "source": [
    "expected_p = tf.constant([[0.3914091, 0.7405224]])\n",
    "print(expected_p)"
   ]
  },
  {
   "cell_type": "code",
   "execution_count": null,
   "id": "7205a687-1b0c-4973-9f14-34a41ba2141e",
   "metadata": {},
   "outputs": [],
   "source": []
  }
 ],
 "metadata": {
  "kernelspec": {
   "display_name": "Python 3 (ipykernel)",
   "language": "python",
   "name": "python3"
  },
  "language_info": {
   "codemirror_mode": {
    "name": "ipython",
    "version": 3
   },
   "file_extension": ".py",
   "mimetype": "text/x-python",
   "name": "python",
   "nbconvert_exporter": "python",
   "pygments_lexer": "ipython3",
   "version": "3.12.3"
  }
 },
 "nbformat": 4,
 "nbformat_minor": 5
}
