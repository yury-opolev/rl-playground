{
 "cells": [
  {
   "cell_type": "markdown",
   "metadata": {
    "id": "kr_aKWMGEmh-"
   },
   "source": [
    "# Approximate q-learning\n",
    "\n",
    "In this notebook you will teach a __PyTorch__ neural network to do Q-learning."
   ]
  },
  {
   "cell_type": "code",
   "execution_count": 1,
   "metadata": {
    "id": "oaMu65ONEmh_"
   },
   "outputs": [
    {
     "name": "stderr",
     "output_type": "stream",
     "text": [
      "../xvfb: line 3: $'\\r': command not found\n",
      "../xvfb: line 6: $'\\r': command not found\n",
      "../xvfb: line 21: syntax error near unexpected token `$'in\\r''\n",
      "../xvfb: line 21: `case \"$1\" in\n",
      "'\n"
     ]
    }
   ],
   "source": [
    "import sys, os\n",
    "if 'google.colab' in sys.modules and not os.path.exists('.setup_complete'):\n",
    "    !wget -q https://raw.githubusercontent.com/yandexdataschool/Practical_RL/master/setup_colab.sh -O- | bash\n",
    "    !touch .setup_complete\n",
    "\n",
    "# This code creates a virtual display to draw game images on.\n",
    "# It will have no effect if your machine has a monitor.\n",
    "if type(os.environ.get(\"DISPLAY\")) is not str or len(os.environ.get(\"DISPLAY\")) == 0:\n",
    "    !bash ../xvfb start\n",
    "    os.environ['DISPLAY'] = ':1'"
   ]
  },
  {
   "cell_type": "code",
   "execution_count": null,
   "metadata": {
    "id": "avILCRKkEpaX"
   },
   "outputs": [],
   "source": [
    "!pip install gymnasium[classic_control]"
   ]
  },
  {
   "cell_type": "code",
   "execution_count": 2,
   "metadata": {
    "id": "K_SRk2ASEmh_"
   },
   "outputs": [],
   "source": [
    "import gymnasium as gym\n",
    "import numpy as np\n",
    "import pandas as pd\n",
    "import matplotlib.pyplot as plt\n",
    "%matplotlib inline"
   ]
  },
  {
   "cell_type": "code",
   "execution_count": 3,
   "metadata": {
    "id": "x2YvkgprEmh_"
   },
   "outputs": [
    {
     "name": "stdout",
     "output_type": "stream",
     "text": [
      "state_dim = (4,) n_actions = 2\n"
     ]
    },
    {
     "data": {
      "image/png": "[encoded data removed]",
      "text/plain": [
       "<Figure size 640x480 with 1 Axes>"
      ]
     },
     "metadata": {},
     "output_type": "display_data"
    }
   ],
   "source": [
    "env = gym.make(\"CartPole-v1\", render_mode=\"rgb_array\").env\n",
    "env.reset()\n",
    "n_actions = env.action_space.n\n",
    "state_dim = env.observation_space.shape\n",
    "\n",
    "print(f\"state_dim = {state_dim} n_actions = {n_actions}\")\n",
    "\n",
    "plt.imshow(env.render())\n",
    "env.close()"
   ]
  },
  {
   "cell_type": "markdown",
   "metadata": {
    "id": "sI8W19CwEmh_"
   },
   "source": [
    "# Approximate Q-learning: building the network\n",
    "\n",
    "To train a neural network policy one must have a neural network policy. Let's build it.\n",
    "\n",
    "\n",
    "Since we're working with a pre-extracted features (cart positions, angles and velocities), we don't need a complicated network yet. In fact, let's build something like this for starters:\n",
    "\n",
    "![img](https://raw.githubusercontent.com/yandexdataschool/Practical_RL/master/yet_another_week/_resource/qlearning_scheme.png)\n",
    "\n",
    "For your first run, please only use linear layers (`nn.Linear`) and activations. Stuff like batch normalization or dropout may ruin everything if used haphazardly.\n",
    "\n",
    "Also please avoid using nonlinearities like sigmoid & tanh: since agent's observations are not normalized, sigmoids might be saturated at initialization. Instead, use non-saturating nonlinearities like ReLU.\n",
    "\n",
    "Ideally you should start small with maybe 1-2 hidden layers with < 200 neurons and then increase network size if agent doesn't beat the target score."
   ]
  },
  {
   "cell_type": "code",
   "execution_count": 4,
   "metadata": {
    "id": "YdWXv8WJEmiA"
   },
   "outputs": [],
   "source": [
    "import torch\n",
    "import torch.nn as nn\n",
    "import torch.nn.functional as F"
   ]
  },
  {
   "cell_type": "code",
   "execution_count": 5,
   "metadata": {
    "id": "y2-PcaIQEmiA"
   },
   "outputs": [],
   "source": [
    "network = nn.Sequential()\n",
    "\n",
    "network.add_module('dense1', nn.Linear(state_dim[0], 64))\n",
    "network.add_module('relu1', nn.ReLU())\n",
    "network.add_module('dense2', nn.Linear(64, 64))\n",
    "network.add_module('relu2', nn.ReLU())\n",
    "network.add_module('dense3', nn.Linear(64, n_actions))\n",
    "\n",
    "# hint: use state_dim[0] as input size"
   ]
  },
  {
   "cell_type": "code",
   "execution_count": 6,
   "metadata": {
    "id": "8xuWPGriEmiA"
   },
   "outputs": [],
   "source": [
    "def get_action(state, epsilon=0):\n",
    "    \"\"\"\n",
    "    sample actions with epsilon-greedy policy\n",
    "    recap: with p = epsilon pick random action, else pick action with highest Q(s,a)\n",
    "    \"\"\"\n",
    "    state = torch.tensor(state[None], dtype=torch.float32)\n",
    "    q_values = network(state).detach().numpy()\n",
    "\n",
    "    should_explore = np.random.binomial(1, epsilon)\n",
    "    if should_explore:\n",
    "        return int(np.random.choice(range(n_actions)))\n",
    "    else:\n",
    "        return int(np.argmax(q_values))\n"
   ]
  },
  {
   "cell_type": "code",
   "execution_count": 7,
   "metadata": {
    "id": "wroEfSRNEmiA"
   },
   "outputs": [
    {
     "name": "stderr",
     "output_type": "stream",
     "text": [
      "C:\\Users\\yurio\\AppData\\Local\\Temp\\ipykernel_23500\\2259198421.py:2: UserWarning: Creating a tensor from a list of numpy.ndarrays is extremely slow. Please consider converting the list to a single numpy.ndarray with numpy.array() before converting to a tensor. (Triggered internally at ..\\torch\\csrc\\utils\\tensor_new.cpp:278.)\n",
      "  assert tuple(network(torch.tensor([s]*3, dtype=torch.float32)).size()) == (\n"
     ]
    },
    {
     "name": "stdout",
     "output_type": "stream",
     "text": [
      "e=0.0 tests passed\n",
      "e=0.1 tests passed\n",
      "e=0.5 tests passed\n",
      "e=1.0 tests passed\n"
     ]
    }
   ],
   "source": [
    "s, _ = env.reset()\n",
    "assert tuple(network(torch.tensor([s]*3, dtype=torch.float32)).size()) == (\n",
    "    3, n_actions), \"please make sure your model maps state s -> [Q(s,a0), ..., Q(s, a_last)]\"\n",
    "assert isinstance(list(network.modules(\n",
    "))[-1], nn.Linear), \"please make sure you predict q-values without nonlinearity (ignore if you know what you're doing)\"\n",
    "assert isinstance(get_action(s), int), \"get_action(s) must return int, not %s. try int(action)\" % (type(get_action(s)))\n",
    "\n",
    "# test epsilon-greedy exploration\n",
    "for eps in [0., 0.1, 0.5, 1.0]:\n",
    "    state_frequencies = np.bincount(\n",
    "        [get_action(s, epsilon=eps) for i in range(10000)], minlength=n_actions)\n",
    "    best_action = state_frequencies.argmax()\n",
    "    assert abs(state_frequencies[best_action] -\n",
    "               10000 * (1 - eps + eps / n_actions)) < 200\n",
    "    for other_action in range(n_actions):\n",
    "        if other_action != best_action:\n",
    "            assert abs(state_frequencies[other_action] -\n",
    "                       10000 * (eps / n_actions)) < 200\n",
    "    print('e=%.1f tests passed' % eps)"
   ]
  },
  {
   "cell_type": "markdown",
   "metadata": {
    "id": "f88ovLBQEmiA"
   },
   "source": [
    "### Q-learning via gradient descent\n",
    "\n",
    "We shall now train our agent's Q-function by minimizing the TD loss:\n",
    "$$ L = { 1 \\over N} \\sum_i (Q_{\\theta}(s,a) - [r(s,a) + \\gamma \\cdot max_{a'} Q_{-}(s', a')]) ^2 $$\n",
    "\n",
    "\n",
    "Where\n",
    "* $s, a, r, s'$ are current state, action, reward and next state respectively\n",
    "* $\\gamma$ is a discount factor defined two cells above.\n",
    "\n",
    "The tricky part is with  $Q_{-}(s',a')$. From an engineering standpoint, it's the same as $Q_{\\theta}$ - the output of your neural network policy. However, when doing gradient descent, __we won't propagate gradients through it__ to make training more stable (see lectures).\n",
    "\n",
    "To do so, we shall use `x.detach()` function which basically says \"consider this thing constant when doing backprop\"."
   ]
  },
  {
   "cell_type": "code",
   "execution_count": 8,
   "metadata": {
    "id": "bOIpO142EmiB"
   },
   "outputs": [],
   "source": [
    "def compute_td_loss(states, actions, rewards, next_states, is_done, gamma=0.99, check_shapes=False):\n",
    "    \"\"\" Compute td loss using torch operations only. Use the formula above. \"\"\"\n",
    "    states = torch.tensor(\n",
    "        states, dtype=torch.float32)                                  # shape: [batch_size, state_size]\n",
    "    actions = torch.tensor(actions, dtype=torch.long)                 # shape: [batch_size]\n",
    "    rewards = torch.tensor(rewards, dtype=torch.float32)              # shape: [batch_size]\n",
    "    # shape: [batch_size, state_size]\n",
    "    next_states = torch.tensor(next_states, dtype=torch.float32)\n",
    "    is_done = torch.tensor(is_done, dtype=torch.uint8)                # shape: [batch_size]\n",
    "\n",
    "    # get q-values for all actions in current states\n",
    "    predicted_qvalues = network(states)                               # shape: [batch_size, n_actions]\n",
    "\n",
    "    # select q-values for chosen actions\n",
    "    predicted_qvalues_for_actions = predicted_qvalues[                # shape: [batch_size]\n",
    "      range(states.shape[0]), actions\n",
    "    ]\n",
    "\n",
    "    # compute q-values for all actions in next states\n",
    "    predicted_next_qvalues = network(next_states)\n",
    "\n",
    "    # compute V*(next_states) using predicted next q-values\n",
    "    next_state_values = torch.max(predicted_next_qvalues, dim=-1)[0]\n",
    "    assert next_state_values.dtype == torch.float32\n",
    "\n",
    "    # compute \"target q-values\" for loss - it's what's inside square parentheses in the above formula.\n",
    "    target_qvalues_for_actions = rewards + gamma * next_state_values\n",
    "\n",
    "    # at the last state we shall use simplified formula: Q(s,a) = r(s,a) since s' doesn't exist\n",
    "    target_qvalues_for_actions = torch.where(\n",
    "        is_done, rewards, target_qvalues_for_actions)\n",
    "\n",
    "    # mean squared error loss to minimize\n",
    "    loss = torch.mean((predicted_qvalues_for_actions -\n",
    "                       target_qvalues_for_actions.detach()) ** 2)\n",
    "\n",
    "    if check_shapes:\n",
    "        assert predicted_next_qvalues.data.dim(\n",
    "        ) == 2, \"make sure you predicted q-values for all actions in next state\"\n",
    "        assert next_state_values.data.dim(\n",
    "        ) == 1, \"make sure you computed V(s') as maximum over just the actions axis and not all axes\"\n",
    "        assert target_qvalues_for_actions.data.dim(\n",
    "        ) == 1, \"there's something wrong with target q-values, they must be a vector\"\n",
    "\n",
    "    return loss"
   ]
  },
  {
   "cell_type": "code",
   "execution_count": 9,
   "metadata": {
    "id": "lKi6AK3DEmiB"
   },
   "outputs": [
    {
     "name": "stderr",
     "output_type": "stream",
     "text": [
      "C:\\Users\\yurio\\AppData\\Local\\Temp\\ipykernel_23500\\2584354917.py:30: UserWarning: where received a uint8 condition tensor. This behavior is deprecated and will be removed in a future version of PyTorch. Use a boolean condition instead. (Triggered internally at ..\\aten\\src\\ATen\\native\\TensorCompare.cpp:519.)\n",
      "  target_qvalues_for_actions = torch.where(\n"
     ]
    }
   ],
   "source": [
    "# sanity checks\n",
    "s, _ = env.reset()\n",
    "a = env.action_space.sample()\n",
    "next_s, r, terminated, _, _ = env.step(a)\n",
    "loss = compute_td_loss([s], [a], [r], [next_s], [terminated], check_shapes=True)\n",
    "loss.backward()\n",
    "\n",
    "assert len(loss.size()) == 0, \"you must return scalar loss - mean over batch\"\n",
    "assert np.any(next(network.parameters()).grad.detach().numpy() !=\n",
    "              0), \"loss must be differentiable w.r.t. network weights\""
   ]
  },
  {
   "cell_type": "markdown",
   "metadata": {
    "id": "LgL6G5lFEmiB"
   },
   "source": [
    "### Playing the game"
   ]
  },
  {
   "cell_type": "code",
   "execution_count": 10,
   "metadata": {
    "id": "zsHb_fjjEmiB"
   },
   "outputs": [
    {
     "name": "stderr",
     "output_type": "stream",
     "text": [
      "C:\\Users\\yurio\\anaconda3\\Lib\\site-packages\\huggingface_hub\\utils\\_runtime.py:184: UserWarning: Pydantic is installed but cannot be imported. Please check your installation. `huggingface_hub` will default to not using Pydantic. Error message: '{e}'\n",
      "  warnings.warn(\n"
     ]
    }
   ],
   "source": [
    "opt = torch.optim.Adam(network.parameters(), lr=1e-4)"
   ]
  },
  {
   "cell_type": "code",
   "execution_count": 11,
   "metadata": {
    "id": "nJ_-xtsjEmiB"
   },
   "outputs": [],
   "source": [
    "def generate_session(env, t_max=1000, epsilon=0, train=False):\n",
    "    \"\"\"play env with approximate q-learning agent and train it at the same time\"\"\"\n",
    "    total_reward = 0\n",
    "    s, _ = env.reset()\n",
    "\n",
    "    for t in range(t_max):\n",
    "        a = get_action(s, epsilon=epsilon)\n",
    "        next_s, r, terminated, truncated, _ = env.step(a)\n",
    "\n",
    "        if train:\n",
    "            opt.zero_grad()\n",
    "            compute_td_loss([s], [a], [r], [next_s], [terminated]).backward()\n",
    "            opt.step()\n",
    "\n",
    "        total_reward += r\n",
    "        s = next_s\n",
    "        if terminated or truncated:\n",
    "            break\n",
    "\n",
    "    return total_reward"
   ]
  },
  {
   "cell_type": "code",
   "execution_count": 12,
   "metadata": {
    "id": "40mKYuVIEmiB"
   },
   "outputs": [],
   "source": [
    "epsilon = 0.5"
   ]
  },
  {
   "cell_type": "code",
   "execution_count": 13,
   "metadata": {
    "id": "EXy8ij00EmiB"
   },
   "outputs": [
    {
     "name": "stdout",
     "output_type": "stream",
     "text": [
      "epoch #0\tmean reward = 14.630\tepsilon = 0.500\n",
      "epoch #1\tmean reward = 13.500\tepsilon = 0.495\n",
      "epoch #2\tmean reward = 14.240\tepsilon = 0.490\n",
      "epoch #3\tmean reward = 12.980\tepsilon = 0.485\n",
      "epoch #4\tmean reward = 13.450\tepsilon = 0.480\n",
      "epoch #5\tmean reward = 15.310\tepsilon = 0.475\n",
      "epoch #6\tmean reward = 15.870\tepsilon = 0.471\n",
      "epoch #7\tmean reward = 22.280\tepsilon = 0.466\n",
      "epoch #8\tmean reward = 29.440\tepsilon = 0.461\n",
      "epoch #9\tmean reward = 33.230\tepsilon = 0.457\n",
      "epoch #10\tmean reward = 37.810\tepsilon = 0.452\n",
      "epoch #11\tmean reward = 41.440\tepsilon = 0.448\n",
      "epoch #12\tmean reward = 45.180\tepsilon = 0.443\n",
      "epoch #13\tmean reward = 52.790\tepsilon = 0.439\n",
      "epoch #14\tmean reward = 51.180\tepsilon = 0.434\n",
      "epoch #15\tmean reward = 79.810\tepsilon = 0.430\n",
      "epoch #16\tmean reward = 103.120\tepsilon = 0.426\n",
      "epoch #17\tmean reward = 141.270\tepsilon = 0.421\n",
      "epoch #18\tmean reward = 149.120\tepsilon = 0.417\n",
      "epoch #19\tmean reward = 145.700\tepsilon = 0.413\n",
      "epoch #20\tmean reward = 150.660\tepsilon = 0.409\n",
      "epoch #21\tmean reward = 142.140\tepsilon = 0.405\n",
      "epoch #22\tmean reward = 171.500\tepsilon = 0.401\n",
      "epoch #23\tmean reward = 150.140\tepsilon = 0.397\n",
      "epoch #24\tmean reward = 133.570\tepsilon = 0.393\n",
      "epoch #25\tmean reward = 182.040\tepsilon = 0.389\n",
      "epoch #26\tmean reward = 93.690\tepsilon = 0.385\n",
      "epoch #27\tmean reward = 137.550\tepsilon = 0.381\n",
      "epoch #28\tmean reward = 184.790\tepsilon = 0.377\n",
      "epoch #29\tmean reward = 309.970\tepsilon = 0.374\n",
      "You Win!\n"
     ]
    }
   ],
   "source": [
    "for i in range(1000):\n",
    "    session_rewards = [generate_session(env, epsilon=epsilon, train=True) for _ in range(100)]\n",
    "    print(\"epoch #{}\\tmean reward = {:.3f}\\tepsilon = {:.3f}\".format(i, np.mean(session_rewards), epsilon))\n",
    "\n",
    "    epsilon *= 0.99\n",
    "    assert epsilon >= 1e-4, \"Make sure epsilon is always nonzero during training\"\n",
    "\n",
    "    if np.mean(session_rewards) > 300:\n",
    "        print(\"You Win!\")\n",
    "        break"
   ]
  },
  {
   "cell_type": "markdown",
   "metadata": {
    "id": "XJPoF9XtEmiB"
   },
   "source": [
    "### How to interpret results\n",
    "\n",
    "\n",
    "Welcome to the f.. world of deep f...n reinforcement learning. Don't expect agent's reward to smoothly go up. Hope for it to go increase eventually. If it deems you worthy.\n",
    "\n",
    "Seriously though,\n",
    "* __ mean reward__ is the average reward per game. For a correct implementation it may stay low for some 10 epochs, then start growing while oscilating insanely and converges by ~50-100 steps depending on the network architecture.\n",
    "* If it never reaches target score by the end of for loop, try increasing the number of hidden neurons or look at the epsilon.\n",
    "* __ epsilon__ - agent's willingness to explore. If you see that agent's already at < 0.01 epsilon before it's is at least 200, just reset it back to 0.1 - 0.5."
   ]
  },
  {
   "cell_type": "markdown",
   "metadata": {
    "id": "lhKiN-qOEmiB"
   },
   "source": [
    "### Record videos\n",
    "\n",
    "As usual, we now use `gymnasium.wrappers.RecordVideo` to record a video of our agent playing the game. Unlike our previous attempts with state binarization, this time we expect our agent to act ~~(or fail)~~ more smoothly since there's no more binarization error at play.\n",
    "\n",
    "As you already did with tabular q-learning, we set epsilon=0 for final evaluation to prevent agent from exploring himself to death."
   ]
  },
  {
   "cell_type": "code",
   "execution_count": 15,
   "metadata": {
    "id": "2yqPkj6HEmiB"
   },
   "outputs": [
    {
     "name": "stdout",
     "output_type": "stream",
     "text": [
      "Moviepy - Building video C:\\Users\\yurio\\Documents\\github\\Practical_RL\\week04_approx_rl\\videos\\rl-video-episode-0.mp4.\n",
      "Moviepy - Writing video C:\\Users\\yurio\\Documents\\github\\Practical_RL\\week04_approx_rl\\videos\\rl-video-episode-0.mp4\n",
      "\n"
     ]
    },
    {
     "name": "stderr",
     "output_type": "stream",
     "text": [
      "                                                                                                                       \r"
     ]
    },
    {
     "name": "stdout",
     "output_type": "stream",
     "text": [
      "Moviepy - Done !\n",
      "Moviepy - video ready C:\\Users\\yurio\\Documents\\github\\Practical_RL\\week04_approx_rl\\videos\\rl-video-episode-0.mp4\n",
      "Moviepy - Building video C:\\Users\\yurio\\Documents\\github\\Practical_RL\\week04_approx_rl\\videos\\rl-video-episode-1.mp4.\n",
      "Moviepy - Writing video C:\\Users\\yurio\\Documents\\github\\Practical_RL\\week04_approx_rl\\videos\\rl-video-episode-1.mp4\n",
      "\n"
     ]
    },
    {
     "name": "stderr",
     "output_type": "stream",
     "text": [
      "                                                                                                                       \r"
     ]
    },
    {
     "name": "stdout",
     "output_type": "stream",
     "text": [
      "Moviepy - Done !\n",
      "Moviepy - video ready C:\\Users\\yurio\\Documents\\github\\Practical_RL\\week04_approx_rl\\videos\\rl-video-episode-1.mp4\n",
      "Moviepy - Building video C:\\Users\\yurio\\Documents\\github\\Practical_RL\\week04_approx_rl\\videos\\rl-video-episode-2.mp4.\n",
      "Moviepy - Writing video C:\\Users\\yurio\\Documents\\github\\Practical_RL\\week04_approx_rl\\videos\\rl-video-episode-2.mp4\n",
      "\n"
     ]
    },
    {
     "name": "stderr",
     "output_type": "stream",
     "text": [
      "                                                                                                                       \r"
     ]
    },
    {
     "name": "stdout",
     "output_type": "stream",
     "text": [
      "Moviepy - Done !\n",
      "Moviepy - video ready C:\\Users\\yurio\\Documents\\github\\Practical_RL\\week04_approx_rl\\videos\\rl-video-episode-2.mp4\n",
      "Moviepy - Building video C:\\Users\\yurio\\Documents\\github\\Practical_RL\\week04_approx_rl\\videos\\rl-video-episode-3.mp4.\n",
      "Moviepy - Writing video C:\\Users\\yurio\\Documents\\github\\Practical_RL\\week04_approx_rl\\videos\\rl-video-episode-3.mp4\n",
      "\n"
     ]
    },
    {
     "name": "stderr",
     "output_type": "stream",
     "text": [
      "                                                                                                                       \r"
     ]
    },
    {
     "name": "stdout",
     "output_type": "stream",
     "text": [
      "Moviepy - Done !\n",
      "Moviepy - video ready C:\\Users\\yurio\\Documents\\github\\Practical_RL\\week04_approx_rl\\videos\\rl-video-episode-3.mp4\n",
      "Moviepy - Building video C:\\Users\\yurio\\Documents\\github\\Practical_RL\\week04_approx_rl\\videos\\rl-video-episode-4.mp4.\n",
      "Moviepy - Writing video C:\\Users\\yurio\\Documents\\github\\Practical_RL\\week04_approx_rl\\videos\\rl-video-episode-4.mp4\n",
      "\n"
     ]
    },
    {
     "name": "stderr",
     "output_type": "stream",
     "text": [
      "                                                                                                                       \r"
     ]
    },
    {
     "name": "stdout",
     "output_type": "stream",
     "text": [
      "Moviepy - Done !\n",
      "Moviepy - video ready C:\\Users\\yurio\\Documents\\github\\Practical_RL\\week04_approx_rl\\videos\\rl-video-episode-4.mp4\n",
      "Moviepy - Building video C:\\Users\\yurio\\Documents\\github\\Practical_RL\\week04_approx_rl\\videos\\rl-video-episode-5.mp4.\n",
      "Moviepy - Writing video C:\\Users\\yurio\\Documents\\github\\Practical_RL\\week04_approx_rl\\videos\\rl-video-episode-5.mp4\n",
      "\n"
     ]
    },
    {
     "name": "stderr",
     "output_type": "stream",
     "text": [
      "                                                                                                                       \r"
     ]
    },
    {
     "name": "stdout",
     "output_type": "stream",
     "text": [
      "Moviepy - Done !\n",
      "Moviepy - video ready C:\\Users\\yurio\\Documents\\github\\Practical_RL\\week04_approx_rl\\videos\\rl-video-episode-5.mp4\n",
      "Moviepy - Building video C:\\Users\\yurio\\Documents\\github\\Practical_RL\\week04_approx_rl\\videos\\rl-video-episode-6.mp4.\n",
      "Moviepy - Writing video C:\\Users\\yurio\\Documents\\github\\Practical_RL\\week04_approx_rl\\videos\\rl-video-episode-6.mp4\n",
      "\n"
     ]
    },
    {
     "name": "stderr",
     "output_type": "stream",
     "text": [
      "                                                                                                                       \r"
     ]
    },
    {
     "name": "stdout",
     "output_type": "stream",
     "text": [
      "Moviepy - Done !\n",
      "Moviepy - video ready C:\\Users\\yurio\\Documents\\github\\Practical_RL\\week04_approx_rl\\videos\\rl-video-episode-6.mp4\n",
      "Moviepy - Building video C:\\Users\\yurio\\Documents\\github\\Practical_RL\\week04_approx_rl\\videos\\rl-video-episode-7.mp4.\n",
      "Moviepy - Writing video C:\\Users\\yurio\\Documents\\github\\Practical_RL\\week04_approx_rl\\videos\\rl-video-episode-7.mp4\n",
      "\n"
     ]
    },
    {
     "name": "stderr",
     "output_type": "stream",
     "text": [
      "                                                                                                                       \r"
     ]
    },
    {
     "name": "stdout",
     "output_type": "stream",
     "text": [
      "Moviepy - Done !\n",
      "Moviepy - video ready C:\\Users\\yurio\\Documents\\github\\Practical_RL\\week04_approx_rl\\videos\\rl-video-episode-7.mp4\n",
      "Moviepy - Building video C:\\Users\\yurio\\Documents\\github\\Practical_RL\\week04_approx_rl\\videos\\rl-video-episode-8.mp4.\n",
      "Moviepy - Writing video C:\\Users\\yurio\\Documents\\github\\Practical_RL\\week04_approx_rl\\videos\\rl-video-episode-8.mp4\n",
      "\n"
     ]
    },
    {
     "name": "stderr",
     "output_type": "stream",
     "text": [
      "                                                                                                                       \r"
     ]
    },
    {
     "name": "stdout",
     "output_type": "stream",
     "text": [
      "Moviepy - Done !\n",
      "Moviepy - video ready C:\\Users\\yurio\\Documents\\github\\Practical_RL\\week04_approx_rl\\videos\\rl-video-episode-8.mp4\n",
      "Moviepy - Building video C:\\Users\\yurio\\Documents\\github\\Practical_RL\\week04_approx_rl\\videos\\rl-video-episode-9.mp4.\n",
      "Moviepy - Writing video C:\\Users\\yurio\\Documents\\github\\Practical_RL\\week04_approx_rl\\videos\\rl-video-episode-9.mp4\n",
      "\n"
     ]
    },
    {
     "name": "stderr",
     "output_type": "stream",
     "text": [
      "                                                                                                                       \r"
     ]
    },
    {
     "name": "stdout",
     "output_type": "stream",
     "text": [
      "Moviepy - Done !\n",
      "Moviepy - video ready C:\\Users\\yurio\\Documents\\github\\Practical_RL\\week04_approx_rl\\videos\\rl-video-episode-9.mp4\n",
      "Moviepy - Building video C:\\Users\\yurio\\Documents\\github\\Practical_RL\\week04_approx_rl\\videos\\rl-video-episode-10.mp4.\n",
      "Moviepy - Writing video C:\\Users\\yurio\\Documents\\github\\Practical_RL\\week04_approx_rl\\videos\\rl-video-episode-10.mp4\n",
      "\n"
     ]
    },
    {
     "name": "stderr",
     "output_type": "stream",
     "text": [
      "                                                                                                                       \r"
     ]
    },
    {
     "name": "stdout",
     "output_type": "stream",
     "text": [
      "Moviepy - Done !\n",
      "Moviepy - video ready C:\\Users\\yurio\\Documents\\github\\Practical_RL\\week04_approx_rl\\videos\\rl-video-episode-10.mp4\n",
      "Moviepy - Building video C:\\Users\\yurio\\Documents\\github\\Practical_RL\\week04_approx_rl\\videos\\rl-video-episode-11.mp4.\n",
      "Moviepy - Writing video C:\\Users\\yurio\\Documents\\github\\Practical_RL\\week04_approx_rl\\videos\\rl-video-episode-11.mp4\n",
      "\n"
     ]
    },
    {
     "name": "stderr",
     "output_type": "stream",
     "text": [
      "                                                                                                                       \r"
     ]
    },
    {
     "name": "stdout",
     "output_type": "stream",
     "text": [
      "Moviepy - Done !\n",
      "Moviepy - video ready C:\\Users\\yurio\\Documents\\github\\Practical_RL\\week04_approx_rl\\videos\\rl-video-episode-11.mp4\n",
      "Moviepy - Building video C:\\Users\\yurio\\Documents\\github\\Practical_RL\\week04_approx_rl\\videos\\rl-video-episode-12.mp4.\n",
      "Moviepy - Writing video C:\\Users\\yurio\\Documents\\github\\Practical_RL\\week04_approx_rl\\videos\\rl-video-episode-12.mp4\n",
      "\n"
     ]
    },
    {
     "name": "stderr",
     "output_type": "stream",
     "text": [
      "                                                                                                                       \r"
     ]
    },
    {
     "name": "stdout",
     "output_type": "stream",
     "text": [
      "Moviepy - Done !\n",
      "Moviepy - video ready C:\\Users\\yurio\\Documents\\github\\Practical_RL\\week04_approx_rl\\videos\\rl-video-episode-12.mp4\n",
      "Moviepy - Building video C:\\Users\\yurio\\Documents\\github\\Practical_RL\\week04_approx_rl\\videos\\rl-video-episode-13.mp4.\n",
      "Moviepy - Writing video C:\\Users\\yurio\\Documents\\github\\Practical_RL\\week04_approx_rl\\videos\\rl-video-episode-13.mp4\n",
      "\n"
     ]
    },
    {
     "name": "stderr",
     "output_type": "stream",
     "text": [
      "                                                                                                                       \r"
     ]
    },
    {
     "name": "stdout",
     "output_type": "stream",
     "text": [
      "Moviepy - Done !\n",
      "Moviepy - video ready C:\\Users\\yurio\\Documents\\github\\Practical_RL\\week04_approx_rl\\videos\\rl-video-episode-13.mp4\n",
      "Moviepy - Building video C:\\Users\\yurio\\Documents\\github\\Practical_RL\\week04_approx_rl\\videos\\rl-video-episode-14.mp4.\n",
      "Moviepy - Writing video C:\\Users\\yurio\\Documents\\github\\Practical_RL\\week04_approx_rl\\videos\\rl-video-episode-14.mp4\n",
      "\n"
     ]
    },
    {
     "name": "stderr",
     "output_type": "stream",
     "text": [
      "                                                                                                                       \r"
     ]
    },
    {
     "name": "stdout",
     "output_type": "stream",
     "text": [
      "Moviepy - Done !\n",
      "Moviepy - video ready C:\\Users\\yurio\\Documents\\github\\Practical_RL\\week04_approx_rl\\videos\\rl-video-episode-14.mp4\n",
      "Moviepy - Building video C:\\Users\\yurio\\Documents\\github\\Practical_RL\\week04_approx_rl\\videos\\rl-video-episode-15.mp4.\n",
      "Moviepy - Writing video C:\\Users\\yurio\\Documents\\github\\Practical_RL\\week04_approx_rl\\videos\\rl-video-episode-15.mp4\n",
      "\n"
     ]
    },
    {
     "name": "stderr",
     "output_type": "stream",
     "text": [
      "                                                                                                                       \r"
     ]
    },
    {
     "name": "stdout",
     "output_type": "stream",
     "text": [
      "Moviepy - Done !\n",
      "Moviepy - video ready C:\\Users\\yurio\\Documents\\github\\Practical_RL\\week04_approx_rl\\videos\\rl-video-episode-15.mp4\n",
      "Moviepy - Building video C:\\Users\\yurio\\Documents\\github\\Practical_RL\\week04_approx_rl\\videos\\rl-video-episode-16.mp4.\n",
      "Moviepy - Writing video C:\\Users\\yurio\\Documents\\github\\Practical_RL\\week04_approx_rl\\videos\\rl-video-episode-16.mp4\n",
      "\n"
     ]
    },
    {
     "name": "stderr",
     "output_type": "stream",
     "text": [
      "                                                                                                                       \r"
     ]
    },
    {
     "name": "stdout",
     "output_type": "stream",
     "text": [
      "Moviepy - Done !\n",
      "Moviepy - video ready C:\\Users\\yurio\\Documents\\github\\Practical_RL\\week04_approx_rl\\videos\\rl-video-episode-16.mp4\n",
      "Moviepy - Building video C:\\Users\\yurio\\Documents\\github\\Practical_RL\\week04_approx_rl\\videos\\rl-video-episode-17.mp4.\n",
      "Moviepy - Writing video C:\\Users\\yurio\\Documents\\github\\Practical_RL\\week04_approx_rl\\videos\\rl-video-episode-17.mp4\n",
      "\n"
     ]
    },
    {
     "name": "stderr",
     "output_type": "stream",
     "text": [
      "                                                                                                                       \r"
     ]
    },
    {
     "name": "stdout",
     "output_type": "stream",
     "text": [
      "Moviepy - Done !\n",
      "Moviepy - video ready C:\\Users\\yurio\\Documents\\github\\Practical_RL\\week04_approx_rl\\videos\\rl-video-episode-17.mp4\n",
      "Moviepy - Building video C:\\Users\\yurio\\Documents\\github\\Practical_RL\\week04_approx_rl\\videos\\rl-video-episode-18.mp4.\n",
      "Moviepy - Writing video C:\\Users\\yurio\\Documents\\github\\Practical_RL\\week04_approx_rl\\videos\\rl-video-episode-18.mp4\n",
      "\n"
     ]
    },
    {
     "name": "stderr",
     "output_type": "stream",
     "text": [
      "                                                                                                                       \r"
     ]
    },
    {
     "name": "stdout",
     "output_type": "stream",
     "text": [
      "Moviepy - Done !\n",
      "Moviepy - video ready C:\\Users\\yurio\\Documents\\github\\Practical_RL\\week04_approx_rl\\videos\\rl-video-episode-18.mp4\n",
      "Moviepy - Building video C:\\Users\\yurio\\Documents\\github\\Practical_RL\\week04_approx_rl\\videos\\rl-video-episode-19.mp4.\n",
      "Moviepy - Writing video C:\\Users\\yurio\\Documents\\github\\Practical_RL\\week04_approx_rl\\videos\\rl-video-episode-19.mp4\n",
      "\n"
     ]
    },
    {
     "name": "stderr",
     "output_type": "stream",
     "text": [
      "                                                                                                                       \r"
     ]
    },
    {
     "name": "stdout",
     "output_type": "stream",
     "text": [
      "Moviepy - Done !\n",
      "Moviepy - video ready C:\\Users\\yurio\\Documents\\github\\Practical_RL\\week04_approx_rl\\videos\\rl-video-episode-19.mp4\n",
      "Moviepy - Building video C:\\Users\\yurio\\Documents\\github\\Practical_RL\\week04_approx_rl\\videos\\rl-video-episode-20.mp4.\n",
      "Moviepy - Writing video C:\\Users\\yurio\\Documents\\github\\Practical_RL\\week04_approx_rl\\videos\\rl-video-episode-20.mp4\n",
      "\n"
     ]
    },
    {
     "name": "stderr",
     "output_type": "stream",
     "text": [
      "                                                                                                                       \r"
     ]
    },
    {
     "name": "stdout",
     "output_type": "stream",
     "text": [
      "Moviepy - Done !\n",
      "Moviepy - video ready C:\\Users\\yurio\\Documents\\github\\Practical_RL\\week04_approx_rl\\videos\\rl-video-episode-20.mp4\n",
      "Moviepy - Building video C:\\Users\\yurio\\Documents\\github\\Practical_RL\\week04_approx_rl\\videos\\rl-video-episode-21.mp4.\n",
      "Moviepy - Writing video C:\\Users\\yurio\\Documents\\github\\Practical_RL\\week04_approx_rl\\videos\\rl-video-episode-21.mp4\n",
      "\n"
     ]
    },
    {
     "name": "stderr",
     "output_type": "stream",
     "text": [
      "                                                                                                                       \r"
     ]
    },
    {
     "name": "stdout",
     "output_type": "stream",
     "text": [
      "Moviepy - Done !\n",
      "Moviepy - video ready C:\\Users\\yurio\\Documents\\github\\Practical_RL\\week04_approx_rl\\videos\\rl-video-episode-21.mp4\n",
      "Moviepy - Building video C:\\Users\\yurio\\Documents\\github\\Practical_RL\\week04_approx_rl\\videos\\rl-video-episode-22.mp4.\n",
      "Moviepy - Writing video C:\\Users\\yurio\\Documents\\github\\Practical_RL\\week04_approx_rl\\videos\\rl-video-episode-22.mp4\n",
      "\n"
     ]
    },
    {
     "name": "stderr",
     "output_type": "stream",
     "text": [
      "                                                                                                                       \r"
     ]
    },
    {
     "name": "stdout",
     "output_type": "stream",
     "text": [
      "Moviepy - Done !\n",
      "Moviepy - video ready C:\\Users\\yurio\\Documents\\github\\Practical_RL\\week04_approx_rl\\videos\\rl-video-episode-22.mp4\n",
      "Moviepy - Building video C:\\Users\\yurio\\Documents\\github\\Practical_RL\\week04_approx_rl\\videos\\rl-video-episode-23.mp4.\n",
      "Moviepy - Writing video C:\\Users\\yurio\\Documents\\github\\Practical_RL\\week04_approx_rl\\videos\\rl-video-episode-23.mp4\n",
      "\n"
     ]
    },
    {
     "name": "stderr",
     "output_type": "stream",
     "text": [
      "                                                                                                                       \r"
     ]
    },
    {
     "name": "stdout",
     "output_type": "stream",
     "text": [
      "Moviepy - Done !\n",
      "Moviepy - video ready C:\\Users\\yurio\\Documents\\github\\Practical_RL\\week04_approx_rl\\videos\\rl-video-episode-23.mp4\n",
      "Moviepy - Building video C:\\Users\\yurio\\Documents\\github\\Practical_RL\\week04_approx_rl\\videos\\rl-video-episode-24.mp4.\n",
      "Moviepy - Writing video C:\\Users\\yurio\\Documents\\github\\Practical_RL\\week04_approx_rl\\videos\\rl-video-episode-24.mp4\n",
      "\n"
     ]
    },
    {
     "name": "stderr",
     "output_type": "stream",
     "text": [
      "                                                                                                                       \r"
     ]
    },
    {
     "name": "stdout",
     "output_type": "stream",
     "text": [
      "Moviepy - Done !\n",
      "Moviepy - video ready C:\\Users\\yurio\\Documents\\github\\Practical_RL\\week04_approx_rl\\videos\\rl-video-episode-24.mp4\n",
      "Moviepy - Building video C:\\Users\\yurio\\Documents\\github\\Practical_RL\\week04_approx_rl\\videos\\rl-video-episode-25.mp4.\n",
      "Moviepy - Writing video C:\\Users\\yurio\\Documents\\github\\Practical_RL\\week04_approx_rl\\videos\\rl-video-episode-25.mp4\n",
      "\n"
     ]
    },
    {
     "name": "stderr",
     "output_type": "stream",
     "text": [
      "                                                                                                                       \r"
     ]
    },
    {
     "name": "stdout",
     "output_type": "stream",
     "text": [
      "Moviepy - Done !\n",
      "Moviepy - video ready C:\\Users\\yurio\\Documents\\github\\Practical_RL\\week04_approx_rl\\videos\\rl-video-episode-25.mp4\n",
      "Moviepy - Building video C:\\Users\\yurio\\Documents\\github\\Practical_RL\\week04_approx_rl\\videos\\rl-video-episode-26.mp4.\n",
      "Moviepy - Writing video C:\\Users\\yurio\\Documents\\github\\Practical_RL\\week04_approx_rl\\videos\\rl-video-episode-26.mp4\n",
      "\n"
     ]
    },
    {
     "name": "stderr",
     "output_type": "stream",
     "text": [
      "                                                                                                                       \r"
     ]
    },
    {
     "name": "stdout",
     "output_type": "stream",
     "text": [
      "Moviepy - Done !\n",
      "Moviepy - video ready C:\\Users\\yurio\\Documents\\github\\Practical_RL\\week04_approx_rl\\videos\\rl-video-episode-26.mp4\n",
      "Moviepy - Building video C:\\Users\\yurio\\Documents\\github\\Practical_RL\\week04_approx_rl\\videos\\rl-video-episode-27.mp4.\n",
      "Moviepy - Writing video C:\\Users\\yurio\\Documents\\github\\Practical_RL\\week04_approx_rl\\videos\\rl-video-episode-27.mp4\n",
      "\n"
     ]
    },
    {
     "name": "stderr",
     "output_type": "stream",
     "text": [
      "                                                                                                                       \r"
     ]
    },
    {
     "name": "stdout",
     "output_type": "stream",
     "text": [
      "Moviepy - Done !\n",
      "Moviepy - video ready C:\\Users\\yurio\\Documents\\github\\Practical_RL\\week04_approx_rl\\videos\\rl-video-episode-27.mp4\n",
      "Moviepy - Building video C:\\Users\\yurio\\Documents\\github\\Practical_RL\\week04_approx_rl\\videos\\rl-video-episode-28.mp4.\n",
      "Moviepy - Writing video C:\\Users\\yurio\\Documents\\github\\Practical_RL\\week04_approx_rl\\videos\\rl-video-episode-28.mp4\n",
      "\n"
     ]
    },
    {
     "name": "stderr",
     "output_type": "stream",
     "text": [
      "                                                                                                                       \r"
     ]
    },
    {
     "name": "stdout",
     "output_type": "stream",
     "text": [
      "Moviepy - Done !\n",
      "Moviepy - video ready C:\\Users\\yurio\\Documents\\github\\Practical_RL\\week04_approx_rl\\videos\\rl-video-episode-28.mp4\n",
      "Moviepy - Building video C:\\Users\\yurio\\Documents\\github\\Practical_RL\\week04_approx_rl\\videos\\rl-video-episode-29.mp4.\n",
      "Moviepy - Writing video C:\\Users\\yurio\\Documents\\github\\Practical_RL\\week04_approx_rl\\videos\\rl-video-episode-29.mp4\n",
      "\n"
     ]
    },
    {
     "name": "stderr",
     "output_type": "stream",
     "text": [
      "                                                                                                                       \r"
     ]
    },
    {
     "name": "stdout",
     "output_type": "stream",
     "text": [
      "Moviepy - Done !\n",
      "Moviepy - video ready C:\\Users\\yurio\\Documents\\github\\Practical_RL\\week04_approx_rl\\videos\\rl-video-episode-29.mp4\n",
      "Moviepy - Building video C:\\Users\\yurio\\Documents\\github\\Practical_RL\\week04_approx_rl\\videos\\rl-video-episode-30.mp4.\n",
      "Moviepy - Writing video C:\\Users\\yurio\\Documents\\github\\Practical_RL\\week04_approx_rl\\videos\\rl-video-episode-30.mp4\n",
      "\n"
     ]
    },
    {
     "name": "stderr",
     "output_type": "stream",
     "text": [
      "                                                                                                                       \r"
     ]
    },
    {
     "name": "stdout",
     "output_type": "stream",
     "text": [
      "Moviepy - Done !\n",
      "Moviepy - video ready C:\\Users\\yurio\\Documents\\github\\Practical_RL\\week04_approx_rl\\videos\\rl-video-episode-30.mp4\n",
      "Moviepy - Building video C:\\Users\\yurio\\Documents\\github\\Practical_RL\\week04_approx_rl\\videos\\rl-video-episode-31.mp4.\n",
      "Moviepy - Writing video C:\\Users\\yurio\\Documents\\github\\Practical_RL\\week04_approx_rl\\videos\\rl-video-episode-31.mp4\n",
      "\n"
     ]
    },
    {
     "name": "stderr",
     "output_type": "stream",
     "text": [
      "                                                                                                                       \r"
     ]
    },
    {
     "name": "stdout",
     "output_type": "stream",
     "text": [
      "Moviepy - Done !\n",
      "Moviepy - video ready C:\\Users\\yurio\\Documents\\github\\Practical_RL\\week04_approx_rl\\videos\\rl-video-episode-31.mp4\n",
      "Moviepy - Building video C:\\Users\\yurio\\Documents\\github\\Practical_RL\\week04_approx_rl\\videos\\rl-video-episode-32.mp4.\n",
      "Moviepy - Writing video C:\\Users\\yurio\\Documents\\github\\Practical_RL\\week04_approx_rl\\videos\\rl-video-episode-32.mp4\n",
      "\n"
     ]
    },
    {
     "name": "stderr",
     "output_type": "stream",
     "text": [
      "                                                                                                                       \r"
     ]
    },
    {
     "name": "stdout",
     "output_type": "stream",
     "text": [
      "Moviepy - Done !\n",
      "Moviepy - video ready C:\\Users\\yurio\\Documents\\github\\Practical_RL\\week04_approx_rl\\videos\\rl-video-episode-32.mp4\n",
      "Moviepy - Building video C:\\Users\\yurio\\Documents\\github\\Practical_RL\\week04_approx_rl\\videos\\rl-video-episode-33.mp4.\n",
      "Moviepy - Writing video C:\\Users\\yurio\\Documents\\github\\Practical_RL\\week04_approx_rl\\videos\\rl-video-episode-33.mp4\n",
      "\n"
     ]
    },
    {
     "name": "stderr",
     "output_type": "stream",
     "text": [
      "                                                                                                                       \r"
     ]
    },
    {
     "name": "stdout",
     "output_type": "stream",
     "text": [
      "Moviepy - Done !\n",
      "Moviepy - video ready C:\\Users\\yurio\\Documents\\github\\Practical_RL\\week04_approx_rl\\videos\\rl-video-episode-33.mp4\n",
      "Moviepy - Building video C:\\Users\\yurio\\Documents\\github\\Practical_RL\\week04_approx_rl\\videos\\rl-video-episode-34.mp4.\n",
      "Moviepy - Writing video C:\\Users\\yurio\\Documents\\github\\Practical_RL\\week04_approx_rl\\videos\\rl-video-episode-34.mp4\n",
      "\n"
     ]
    },
    {
     "name": "stderr",
     "output_type": "stream",
     "text": [
      "                                                                                                                       \r"
     ]
    },
    {
     "name": "stdout",
     "output_type": "stream",
     "text": [
      "Moviepy - Done !\n",
      "Moviepy - video ready C:\\Users\\yurio\\Documents\\github\\Practical_RL\\week04_approx_rl\\videos\\rl-video-episode-34.mp4\n",
      "Moviepy - Building video C:\\Users\\yurio\\Documents\\github\\Practical_RL\\week04_approx_rl\\videos\\rl-video-episode-35.mp4.\n",
      "Moviepy - Writing video C:\\Users\\yurio\\Documents\\github\\Practical_RL\\week04_approx_rl\\videos\\rl-video-episode-35.mp4\n",
      "\n"
     ]
    },
    {
     "name": "stderr",
     "output_type": "stream",
     "text": [
      "                                                                                                                       \r"
     ]
    },
    {
     "name": "stdout",
     "output_type": "stream",
     "text": [
      "Moviepy - Done !\n",
      "Moviepy - video ready C:\\Users\\yurio\\Documents\\github\\Practical_RL\\week04_approx_rl\\videos\\rl-video-episode-35.mp4\n",
      "Moviepy - Building video C:\\Users\\yurio\\Documents\\github\\Practical_RL\\week04_approx_rl\\videos\\rl-video-episode-36.mp4.\n",
      "Moviepy - Writing video C:\\Users\\yurio\\Documents\\github\\Practical_RL\\week04_approx_rl\\videos\\rl-video-episode-36.mp4\n",
      "\n"
     ]
    },
    {
     "name": "stderr",
     "output_type": "stream",
     "text": [
      "                                                                                                                       \r"
     ]
    },
    {
     "name": "stdout",
     "output_type": "stream",
     "text": [
      "Moviepy - Done !\n",
      "Moviepy - video ready C:\\Users\\yurio\\Documents\\github\\Practical_RL\\week04_approx_rl\\videos\\rl-video-episode-36.mp4\n",
      "Moviepy - Building video C:\\Users\\yurio\\Documents\\github\\Practical_RL\\week04_approx_rl\\videos\\rl-video-episode-37.mp4.\n",
      "Moviepy - Writing video C:\\Users\\yurio\\Documents\\github\\Practical_RL\\week04_approx_rl\\videos\\rl-video-episode-37.mp4\n",
      "\n"
     ]
    },
    {
     "name": "stderr",
     "output_type": "stream",
     "text": [
      "                                                                                                                       \r"
     ]
    },
    {
     "name": "stdout",
     "output_type": "stream",
     "text": [
      "Moviepy - Done !\n",
      "Moviepy - video ready C:\\Users\\yurio\\Documents\\github\\Practical_RL\\week04_approx_rl\\videos\\rl-video-episode-37.mp4\n",
      "Moviepy - Building video C:\\Users\\yurio\\Documents\\github\\Practical_RL\\week04_approx_rl\\videos\\rl-video-episode-38.mp4.\n",
      "Moviepy - Writing video C:\\Users\\yurio\\Documents\\github\\Practical_RL\\week04_approx_rl\\videos\\rl-video-episode-38.mp4\n",
      "\n"
     ]
    },
    {
     "name": "stderr",
     "output_type": "stream",
     "text": [
      "                                                                                                                       \r"
     ]
    },
    {
     "name": "stdout",
     "output_type": "stream",
     "text": [
      "Moviepy - Done !\n",
      "Moviepy - video ready C:\\Users\\yurio\\Documents\\github\\Practical_RL\\week04_approx_rl\\videos\\rl-video-episode-38.mp4\n",
      "Moviepy - Building video C:\\Users\\yurio\\Documents\\github\\Practical_RL\\week04_approx_rl\\videos\\rl-video-episode-39.mp4.\n",
      "Moviepy - Writing video C:\\Users\\yurio\\Documents\\github\\Practical_RL\\week04_approx_rl\\videos\\rl-video-episode-39.mp4\n",
      "\n"
     ]
    },
    {
     "name": "stderr",
     "output_type": "stream",
     "text": [
      "                                                                                                                       \r"
     ]
    },
    {
     "name": "stdout",
     "output_type": "stream",
     "text": [
      "Moviepy - Done !\n",
      "Moviepy - video ready C:\\Users\\yurio\\Documents\\github\\Practical_RL\\week04_approx_rl\\videos\\rl-video-episode-39.mp4\n",
      "Moviepy - Building video C:\\Users\\yurio\\Documents\\github\\Practical_RL\\week04_approx_rl\\videos\\rl-video-episode-40.mp4.\n",
      "Moviepy - Writing video C:\\Users\\yurio\\Documents\\github\\Practical_RL\\week04_approx_rl\\videos\\rl-video-episode-40.mp4\n",
      "\n"
     ]
    },
    {
     "name": "stderr",
     "output_type": "stream",
     "text": [
      "                                                                                                                       \r"
     ]
    },
    {
     "name": "stdout",
     "output_type": "stream",
     "text": [
      "Moviepy - Done !\n",
      "Moviepy - video ready C:\\Users\\yurio\\Documents\\github\\Practical_RL\\week04_approx_rl\\videos\\rl-video-episode-40.mp4\n",
      "Moviepy - Building video C:\\Users\\yurio\\Documents\\github\\Practical_RL\\week04_approx_rl\\videos\\rl-video-episode-41.mp4.\n",
      "Moviepy - Writing video C:\\Users\\yurio\\Documents\\github\\Practical_RL\\week04_approx_rl\\videos\\rl-video-episode-41.mp4\n",
      "\n"
     ]
    },
    {
     "name": "stderr",
     "output_type": "stream",
     "text": [
      "                                                                                                                       \r"
     ]
    },
    {
     "name": "stdout",
     "output_type": "stream",
     "text": [
      "Moviepy - Done !\n",
      "Moviepy - video ready C:\\Users\\yurio\\Documents\\github\\Practical_RL\\week04_approx_rl\\videos\\rl-video-episode-41.mp4\n",
      "Moviepy - Building video C:\\Users\\yurio\\Documents\\github\\Practical_RL\\week04_approx_rl\\videos\\rl-video-episode-42.mp4.\n",
      "Moviepy - Writing video C:\\Users\\yurio\\Documents\\github\\Practical_RL\\week04_approx_rl\\videos\\rl-video-episode-42.mp4\n",
      "\n"
     ]
    },
    {
     "name": "stderr",
     "output_type": "stream",
     "text": [
      "                                                                                                                       \r"
     ]
    },
    {
     "name": "stdout",
     "output_type": "stream",
     "text": [
      "Moviepy - Done !\n",
      "Moviepy - video ready C:\\Users\\yurio\\Documents\\github\\Practical_RL\\week04_approx_rl\\videos\\rl-video-episode-42.mp4\n",
      "Moviepy - Building video C:\\Users\\yurio\\Documents\\github\\Practical_RL\\week04_approx_rl\\videos\\rl-video-episode-43.mp4.\n",
      "Moviepy - Writing video C:\\Users\\yurio\\Documents\\github\\Practical_RL\\week04_approx_rl\\videos\\rl-video-episode-43.mp4\n",
      "\n"
     ]
    },
    {
     "name": "stderr",
     "output_type": "stream",
     "text": [
      "                                                                                                                       \r"
     ]
    },
    {
     "name": "stdout",
     "output_type": "stream",
     "text": [
      "Moviepy - Done !\n",
      "Moviepy - video ready C:\\Users\\yurio\\Documents\\github\\Practical_RL\\week04_approx_rl\\videos\\rl-video-episode-43.mp4\n",
      "Moviepy - Building video C:\\Users\\yurio\\Documents\\github\\Practical_RL\\week04_approx_rl\\videos\\rl-video-episode-44.mp4.\n",
      "Moviepy - Writing video C:\\Users\\yurio\\Documents\\github\\Practical_RL\\week04_approx_rl\\videos\\rl-video-episode-44.mp4\n",
      "\n"
     ]
    },
    {
     "name": "stderr",
     "output_type": "stream",
     "text": [
      "                                                                                                                       \r"
     ]
    },
    {
     "name": "stdout",
     "output_type": "stream",
     "text": [
      "Moviepy - Done !\n",
      "Moviepy - video ready C:\\Users\\yurio\\Documents\\github\\Practical_RL\\week04_approx_rl\\videos\\rl-video-episode-44.mp4\n",
      "Moviepy - Building video C:\\Users\\yurio\\Documents\\github\\Practical_RL\\week04_approx_rl\\videos\\rl-video-episode-45.mp4.\n",
      "Moviepy - Writing video C:\\Users\\yurio\\Documents\\github\\Practical_RL\\week04_approx_rl\\videos\\rl-video-episode-45.mp4\n",
      "\n"
     ]
    },
    {
     "name": "stderr",
     "output_type": "stream",
     "text": [
      "                                                                                                                       \r"
     ]
    },
    {
     "name": "stdout",
     "output_type": "stream",
     "text": [
      "Moviepy - Done !\n",
      "Moviepy - video ready C:\\Users\\yurio\\Documents\\github\\Practical_RL\\week04_approx_rl\\videos\\rl-video-episode-45.mp4\n",
      "Moviepy - Building video C:\\Users\\yurio\\Documents\\github\\Practical_RL\\week04_approx_rl\\videos\\rl-video-episode-46.mp4.\n",
      "Moviepy - Writing video C:\\Users\\yurio\\Documents\\github\\Practical_RL\\week04_approx_rl\\videos\\rl-video-episode-46.mp4\n",
      "\n"
     ]
    },
    {
     "name": "stderr",
     "output_type": "stream",
     "text": [
      "                                                                                                                       \r"
     ]
    },
    {
     "name": "stdout",
     "output_type": "stream",
     "text": [
      "Moviepy - Done !\n",
      "Moviepy - video ready C:\\Users\\yurio\\Documents\\github\\Practical_RL\\week04_approx_rl\\videos\\rl-video-episode-46.mp4\n",
      "Moviepy - Building video C:\\Users\\yurio\\Documents\\github\\Practical_RL\\week04_approx_rl\\videos\\rl-video-episode-47.mp4.\n",
      "Moviepy - Writing video C:\\Users\\yurio\\Documents\\github\\Practical_RL\\week04_approx_rl\\videos\\rl-video-episode-47.mp4\n",
      "\n"
     ]
    },
    {
     "name": "stderr",
     "output_type": "stream",
     "text": [
      "                                                                                                                       \r"
     ]
    },
    {
     "name": "stdout",
     "output_type": "stream",
     "text": [
      "Moviepy - Done !\n",
      "Moviepy - video ready C:\\Users\\yurio\\Documents\\github\\Practical_RL\\week04_approx_rl\\videos\\rl-video-episode-47.mp4\n",
      "Moviepy - Building video C:\\Users\\yurio\\Documents\\github\\Practical_RL\\week04_approx_rl\\videos\\rl-video-episode-48.mp4.\n",
      "Moviepy - Writing video C:\\Users\\yurio\\Documents\\github\\Practical_RL\\week04_approx_rl\\videos\\rl-video-episode-48.mp4\n",
      "\n"
     ]
    },
    {
     "name": "stderr",
     "output_type": "stream",
     "text": [
      "                                                                                                                       \r"
     ]
    },
    {
     "name": "stdout",
     "output_type": "stream",
     "text": [
      "Moviepy - Done !\n",
      "Moviepy - video ready C:\\Users\\yurio\\Documents\\github\\Practical_RL\\week04_approx_rl\\videos\\rl-video-episode-48.mp4\n",
      "Moviepy - Building video C:\\Users\\yurio\\Documents\\github\\Practical_RL\\week04_approx_rl\\videos\\rl-video-episode-49.mp4.\n",
      "Moviepy - Writing video C:\\Users\\yurio\\Documents\\github\\Practical_RL\\week04_approx_rl\\videos\\rl-video-episode-49.mp4\n",
      "\n"
     ]
    },
    {
     "name": "stderr",
     "output_type": "stream",
     "text": [
      "                                                                                                                       \r"
     ]
    },
    {
     "name": "stdout",
     "output_type": "stream",
     "text": [
      "Moviepy - Done !\n",
      "Moviepy - video ready C:\\Users\\yurio\\Documents\\github\\Practical_RL\\week04_approx_rl\\videos\\rl-video-episode-49.mp4\n",
      "Moviepy - Building video C:\\Users\\yurio\\Documents\\github\\Practical_RL\\week04_approx_rl\\videos\\rl-video-episode-50.mp4.\n",
      "Moviepy - Writing video C:\\Users\\yurio\\Documents\\github\\Practical_RL\\week04_approx_rl\\videos\\rl-video-episode-50.mp4\n",
      "\n"
     ]
    },
    {
     "name": "stderr",
     "output_type": "stream",
     "text": [
      "                                                                                                                       \r"
     ]
    },
    {
     "name": "stdout",
     "output_type": "stream",
     "text": [
      "Moviepy - Done !\n",
      "Moviepy - video ready C:\\Users\\yurio\\Documents\\github\\Practical_RL\\week04_approx_rl\\videos\\rl-video-episode-50.mp4\n",
      "Moviepy - Building video C:\\Users\\yurio\\Documents\\github\\Practical_RL\\week04_approx_rl\\videos\\rl-video-episode-51.mp4.\n",
      "Moviepy - Writing video C:\\Users\\yurio\\Documents\\github\\Practical_RL\\week04_approx_rl\\videos\\rl-video-episode-51.mp4\n",
      "\n"
     ]
    },
    {
     "name": "stderr",
     "output_type": "stream",
     "text": [
      "                                                                                                                       \r"
     ]
    },
    {
     "name": "stdout",
     "output_type": "stream",
     "text": [
      "Moviepy - Done !\n",
      "Moviepy - video ready C:\\Users\\yurio\\Documents\\github\\Practical_RL\\week04_approx_rl\\videos\\rl-video-episode-51.mp4\n",
      "Moviepy - Building video C:\\Users\\yurio\\Documents\\github\\Practical_RL\\week04_approx_rl\\videos\\rl-video-episode-52.mp4.\n",
      "Moviepy - Writing video C:\\Users\\yurio\\Documents\\github\\Practical_RL\\week04_approx_rl\\videos\\rl-video-episode-52.mp4\n",
      "\n"
     ]
    },
    {
     "name": "stderr",
     "output_type": "stream",
     "text": [
      "                                                                                                                       \r"
     ]
    },
    {
     "name": "stdout",
     "output_type": "stream",
     "text": [
      "Moviepy - Done !\n",
      "Moviepy - video ready C:\\Users\\yurio\\Documents\\github\\Practical_RL\\week04_approx_rl\\videos\\rl-video-episode-52.mp4\n",
      "Moviepy - Building video C:\\Users\\yurio\\Documents\\github\\Practical_RL\\week04_approx_rl\\videos\\rl-video-episode-53.mp4.\n",
      "Moviepy - Writing video C:\\Users\\yurio\\Documents\\github\\Practical_RL\\week04_approx_rl\\videos\\rl-video-episode-53.mp4\n",
      "\n"
     ]
    },
    {
     "name": "stderr",
     "output_type": "stream",
     "text": [
      "                                                                                                                       \r"
     ]
    },
    {
     "name": "stdout",
     "output_type": "stream",
     "text": [
      "Moviepy - Done !\n",
      "Moviepy - video ready C:\\Users\\yurio\\Documents\\github\\Practical_RL\\week04_approx_rl\\videos\\rl-video-episode-53.mp4\n",
      "Moviepy - Building video C:\\Users\\yurio\\Documents\\github\\Practical_RL\\week04_approx_rl\\videos\\rl-video-episode-54.mp4.\n",
      "Moviepy - Writing video C:\\Users\\yurio\\Documents\\github\\Practical_RL\\week04_approx_rl\\videos\\rl-video-episode-54.mp4\n",
      "\n"
     ]
    },
    {
     "name": "stderr",
     "output_type": "stream",
     "text": [
      "                                                                                                                       \r"
     ]
    },
    {
     "name": "stdout",
     "output_type": "stream",
     "text": [
      "Moviepy - Done !\n",
      "Moviepy - video ready C:\\Users\\yurio\\Documents\\github\\Practical_RL\\week04_approx_rl\\videos\\rl-video-episode-54.mp4\n",
      "Moviepy - Building video C:\\Users\\yurio\\Documents\\github\\Practical_RL\\week04_approx_rl\\videos\\rl-video-episode-55.mp4.\n",
      "Moviepy - Writing video C:\\Users\\yurio\\Documents\\github\\Practical_RL\\week04_approx_rl\\videos\\rl-video-episode-55.mp4\n",
      "\n"
     ]
    },
    {
     "name": "stderr",
     "output_type": "stream",
     "text": [
      "                                                                                                                       \r"
     ]
    },
    {
     "name": "stdout",
     "output_type": "stream",
     "text": [
      "Moviepy - Done !\n",
      "Moviepy - video ready C:\\Users\\yurio\\Documents\\github\\Practical_RL\\week04_approx_rl\\videos\\rl-video-episode-55.mp4\n",
      "Moviepy - Building video C:\\Users\\yurio\\Documents\\github\\Practical_RL\\week04_approx_rl\\videos\\rl-video-episode-56.mp4.\n",
      "Moviepy - Writing video C:\\Users\\yurio\\Documents\\github\\Practical_RL\\week04_approx_rl\\videos\\rl-video-episode-56.mp4\n",
      "\n"
     ]
    },
    {
     "name": "stderr",
     "output_type": "stream",
     "text": [
      "                                                                                                                       \r"
     ]
    },
    {
     "name": "stdout",
     "output_type": "stream",
     "text": [
      "Moviepy - Done !\n",
      "Moviepy - video ready C:\\Users\\yurio\\Documents\\github\\Practical_RL\\week04_approx_rl\\videos\\rl-video-episode-56.mp4\n",
      "Moviepy - Building video C:\\Users\\yurio\\Documents\\github\\Practical_RL\\week04_approx_rl\\videos\\rl-video-episode-57.mp4.\n",
      "Moviepy - Writing video C:\\Users\\yurio\\Documents\\github\\Practical_RL\\week04_approx_rl\\videos\\rl-video-episode-57.mp4\n",
      "\n"
     ]
    },
    {
     "name": "stderr",
     "output_type": "stream",
     "text": [
      "                                                                                                                       \r"
     ]
    },
    {
     "name": "stdout",
     "output_type": "stream",
     "text": [
      "Moviepy - Done !\n",
      "Moviepy - video ready C:\\Users\\yurio\\Documents\\github\\Practical_RL\\week04_approx_rl\\videos\\rl-video-episode-57.mp4\n",
      "Moviepy - Building video C:\\Users\\yurio\\Documents\\github\\Practical_RL\\week04_approx_rl\\videos\\rl-video-episode-58.mp4.\n",
      "Moviepy - Writing video C:\\Users\\yurio\\Documents\\github\\Practical_RL\\week04_approx_rl\\videos\\rl-video-episode-58.mp4\n",
      "\n"
     ]
    },
    {
     "name": "stderr",
     "output_type": "stream",
     "text": [
      "                                                                                                                       \r"
     ]
    },
    {
     "name": "stdout",
     "output_type": "stream",
     "text": [
      "Moviepy - Done !\n",
      "Moviepy - video ready C:\\Users\\yurio\\Documents\\github\\Practical_RL\\week04_approx_rl\\videos\\rl-video-episode-58.mp4\n",
      "Moviepy - Building video C:\\Users\\yurio\\Documents\\github\\Practical_RL\\week04_approx_rl\\videos\\rl-video-episode-59.mp4.\n",
      "Moviepy - Writing video C:\\Users\\yurio\\Documents\\github\\Practical_RL\\week04_approx_rl\\videos\\rl-video-episode-59.mp4\n",
      "\n"
     ]
    },
    {
     "name": "stderr",
     "output_type": "stream",
     "text": [
      "                                                                                                                       \r"
     ]
    },
    {
     "name": "stdout",
     "output_type": "stream",
     "text": [
      "Moviepy - Done !\n",
      "Moviepy - video ready C:\\Users\\yurio\\Documents\\github\\Practical_RL\\week04_approx_rl\\videos\\rl-video-episode-59.mp4\n",
      "Moviepy - Building video C:\\Users\\yurio\\Documents\\github\\Practical_RL\\week04_approx_rl\\videos\\rl-video-episode-60.mp4.\n",
      "Moviepy - Writing video C:\\Users\\yurio\\Documents\\github\\Practical_RL\\week04_approx_rl\\videos\\rl-video-episode-60.mp4\n",
      "\n"
     ]
    },
    {
     "name": "stderr",
     "output_type": "stream",
     "text": [
      "                                                                                                                       \r"
     ]
    },
    {
     "name": "stdout",
     "output_type": "stream",
     "text": [
      "Moviepy - Done !\n",
      "Moviepy - video ready C:\\Users\\yurio\\Documents\\github\\Practical_RL\\week04_approx_rl\\videos\\rl-video-episode-60.mp4\n",
      "Moviepy - Building video C:\\Users\\yurio\\Documents\\github\\Practical_RL\\week04_approx_rl\\videos\\rl-video-episode-61.mp4.\n",
      "Moviepy - Writing video C:\\Users\\yurio\\Documents\\github\\Practical_RL\\week04_approx_rl\\videos\\rl-video-episode-61.mp4\n",
      "\n"
     ]
    },
    {
     "name": "stderr",
     "output_type": "stream",
     "text": [
      "                                                                                                                       \r"
     ]
    },
    {
     "name": "stdout",
     "output_type": "stream",
     "text": [
      "Moviepy - Done !\n",
      "Moviepy - video ready C:\\Users\\yurio\\Documents\\github\\Practical_RL\\week04_approx_rl\\videos\\rl-video-episode-61.mp4\n",
      "Moviepy - Building video C:\\Users\\yurio\\Documents\\github\\Practical_RL\\week04_approx_rl\\videos\\rl-video-episode-62.mp4.\n",
      "Moviepy - Writing video C:\\Users\\yurio\\Documents\\github\\Practical_RL\\week04_approx_rl\\videos\\rl-video-episode-62.mp4\n",
      "\n"
     ]
    },
    {
     "name": "stderr",
     "output_type": "stream",
     "text": [
      "                                                                                                                       \r"
     ]
    },
    {
     "name": "stdout",
     "output_type": "stream",
     "text": [
      "Moviepy - Done !\n",
      "Moviepy - video ready C:\\Users\\yurio\\Documents\\github\\Practical_RL\\week04_approx_rl\\videos\\rl-video-episode-62.mp4\n",
      "Moviepy - Building video C:\\Users\\yurio\\Documents\\github\\Practical_RL\\week04_approx_rl\\videos\\rl-video-episode-63.mp4.\n",
      "Moviepy - Writing video C:\\Users\\yurio\\Documents\\github\\Practical_RL\\week04_approx_rl\\videos\\rl-video-episode-63.mp4\n",
      "\n"
     ]
    },
    {
     "name": "stderr",
     "output_type": "stream",
     "text": [
      "                                                                                                                       \r"
     ]
    },
    {
     "name": "stdout",
     "output_type": "stream",
     "text": [
      "Moviepy - Done !\n",
      "Moviepy - video ready C:\\Users\\yurio\\Documents\\github\\Practical_RL\\week04_approx_rl\\videos\\rl-video-episode-63.mp4\n",
      "Moviepy - Building video C:\\Users\\yurio\\Documents\\github\\Practical_RL\\week04_approx_rl\\videos\\rl-video-episode-64.mp4.\n",
      "Moviepy - Writing video C:\\Users\\yurio\\Documents\\github\\Practical_RL\\week04_approx_rl\\videos\\rl-video-episode-64.mp4\n",
      "\n"
     ]
    },
    {
     "name": "stderr",
     "output_type": "stream",
     "text": [
      "                                                                                                                       \r"
     ]
    },
    {
     "name": "stdout",
     "output_type": "stream",
     "text": [
      "Moviepy - Done !\n",
      "Moviepy - video ready C:\\Users\\yurio\\Documents\\github\\Practical_RL\\week04_approx_rl\\videos\\rl-video-episode-64.mp4\n",
      "Moviepy - Building video C:\\Users\\yurio\\Documents\\github\\Practical_RL\\week04_approx_rl\\videos\\rl-video-episode-65.mp4.\n",
      "Moviepy - Writing video C:\\Users\\yurio\\Documents\\github\\Practical_RL\\week04_approx_rl\\videos\\rl-video-episode-65.mp4\n",
      "\n"
     ]
    },
    {
     "name": "stderr",
     "output_type": "stream",
     "text": [
      "                                                                                                                       \r"
     ]
    },
    {
     "name": "stdout",
     "output_type": "stream",
     "text": [
      "Moviepy - Done !\n",
      "Moviepy - video ready C:\\Users\\yurio\\Documents\\github\\Practical_RL\\week04_approx_rl\\videos\\rl-video-episode-65.mp4\n",
      "Moviepy - Building video C:\\Users\\yurio\\Documents\\github\\Practical_RL\\week04_approx_rl\\videos\\rl-video-episode-66.mp4.\n",
      "Moviepy - Writing video C:\\Users\\yurio\\Documents\\github\\Practical_RL\\week04_approx_rl\\videos\\rl-video-episode-66.mp4\n",
      "\n"
     ]
    },
    {
     "name": "stderr",
     "output_type": "stream",
     "text": [
      "                                                                                                                       \r"
     ]
    },
    {
     "name": "stdout",
     "output_type": "stream",
     "text": [
      "Moviepy - Done !\n",
      "Moviepy - video ready C:\\Users\\yurio\\Documents\\github\\Practical_RL\\week04_approx_rl\\videos\\rl-video-episode-66.mp4\n",
      "Moviepy - Building video C:\\Users\\yurio\\Documents\\github\\Practical_RL\\week04_approx_rl\\videos\\rl-video-episode-67.mp4.\n",
      "Moviepy - Writing video C:\\Users\\yurio\\Documents\\github\\Practical_RL\\week04_approx_rl\\videos\\rl-video-episode-67.mp4\n",
      "\n"
     ]
    },
    {
     "name": "stderr",
     "output_type": "stream",
     "text": [
      "                                                                                                                       \r"
     ]
    },
    {
     "name": "stdout",
     "output_type": "stream",
     "text": [
      "Moviepy - Done !\n",
      "Moviepy - video ready C:\\Users\\yurio\\Documents\\github\\Practical_RL\\week04_approx_rl\\videos\\rl-video-episode-67.mp4\n",
      "Moviepy - Building video C:\\Users\\yurio\\Documents\\github\\Practical_RL\\week04_approx_rl\\videos\\rl-video-episode-68.mp4.\n",
      "Moviepy - Writing video C:\\Users\\yurio\\Documents\\github\\Practical_RL\\week04_approx_rl\\videos\\rl-video-episode-68.mp4\n",
      "\n"
     ]
    },
    {
     "name": "stderr",
     "output_type": "stream",
     "text": [
      "                                                                                                                       \r"
     ]
    },
    {
     "name": "stdout",
     "output_type": "stream",
     "text": [
      "Moviepy - Done !\n",
      "Moviepy - video ready C:\\Users\\yurio\\Documents\\github\\Practical_RL\\week04_approx_rl\\videos\\rl-video-episode-68.mp4\n",
      "Moviepy - Building video C:\\Users\\yurio\\Documents\\github\\Practical_RL\\week04_approx_rl\\videos\\rl-video-episode-69.mp4.\n",
      "Moviepy - Writing video C:\\Users\\yurio\\Documents\\github\\Practical_RL\\week04_approx_rl\\videos\\rl-video-episode-69.mp4\n",
      "\n"
     ]
    },
    {
     "name": "stderr",
     "output_type": "stream",
     "text": [
      "                                                                                                                       \r"
     ]
    },
    {
     "name": "stdout",
     "output_type": "stream",
     "text": [
      "Moviepy - Done !\n",
      "Moviepy - video ready C:\\Users\\yurio\\Documents\\github\\Practical_RL\\week04_approx_rl\\videos\\rl-video-episode-69.mp4\n",
      "Moviepy - Building video C:\\Users\\yurio\\Documents\\github\\Practical_RL\\week04_approx_rl\\videos\\rl-video-episode-70.mp4.\n",
      "Moviepy - Writing video C:\\Users\\yurio\\Documents\\github\\Practical_RL\\week04_approx_rl\\videos\\rl-video-episode-70.mp4\n",
      "\n"
     ]
    },
    {
     "name": "stderr",
     "output_type": "stream",
     "text": [
      "                                                                                                                       \r"
     ]
    },
    {
     "name": "stdout",
     "output_type": "stream",
     "text": [
      "Moviepy - Done !\n",
      "Moviepy - video ready C:\\Users\\yurio\\Documents\\github\\Practical_RL\\week04_approx_rl\\videos\\rl-video-episode-70.mp4\n",
      "Moviepy - Building video C:\\Users\\yurio\\Documents\\github\\Practical_RL\\week04_approx_rl\\videos\\rl-video-episode-71.mp4.\n",
      "Moviepy - Writing video C:\\Users\\yurio\\Documents\\github\\Practical_RL\\week04_approx_rl\\videos\\rl-video-episode-71.mp4\n",
      "\n"
     ]
    },
    {
     "name": "stderr",
     "output_type": "stream",
     "text": [
      "                                                                                                                       \r"
     ]
    },
    {
     "name": "stdout",
     "output_type": "stream",
     "text": [
      "Moviepy - Done !\n",
      "Moviepy - video ready C:\\Users\\yurio\\Documents\\github\\Practical_RL\\week04_approx_rl\\videos\\rl-video-episode-71.mp4\n",
      "Moviepy - Building video C:\\Users\\yurio\\Documents\\github\\Practical_RL\\week04_approx_rl\\videos\\rl-video-episode-72.mp4.\n",
      "Moviepy - Writing video C:\\Users\\yurio\\Documents\\github\\Practical_RL\\week04_approx_rl\\videos\\rl-video-episode-72.mp4\n",
      "\n"
     ]
    },
    {
     "name": "stderr",
     "output_type": "stream",
     "text": [
      "                                                                                                                       \r"
     ]
    },
    {
     "name": "stdout",
     "output_type": "stream",
     "text": [
      "Moviepy - Done !\n",
      "Moviepy - video ready C:\\Users\\yurio\\Documents\\github\\Practical_RL\\week04_approx_rl\\videos\\rl-video-episode-72.mp4\n",
      "Moviepy - Building video C:\\Users\\yurio\\Documents\\github\\Practical_RL\\week04_approx_rl\\videos\\rl-video-episode-73.mp4.\n",
      "Moviepy - Writing video C:\\Users\\yurio\\Documents\\github\\Practical_RL\\week04_approx_rl\\videos\\rl-video-episode-73.mp4\n",
      "\n"
     ]
    },
    {
     "name": "stderr",
     "output_type": "stream",
     "text": [
      "                                                                                                                       \r"
     ]
    },
    {
     "name": "stdout",
     "output_type": "stream",
     "text": [
      "Moviepy - Done !\n",
      "Moviepy - video ready C:\\Users\\yurio\\Documents\\github\\Practical_RL\\week04_approx_rl\\videos\\rl-video-episode-73.mp4\n",
      "Moviepy - Building video C:\\Users\\yurio\\Documents\\github\\Practical_RL\\week04_approx_rl\\videos\\rl-video-episode-74.mp4.\n",
      "Moviepy - Writing video C:\\Users\\yurio\\Documents\\github\\Practical_RL\\week04_approx_rl\\videos\\rl-video-episode-74.mp4\n",
      "\n"
     ]
    },
    {
     "name": "stderr",
     "output_type": "stream",
     "text": [
      "                                                                                                                       \r"
     ]
    },
    {
     "name": "stdout",
     "output_type": "stream",
     "text": [
      "Moviepy - Done !\n",
      "Moviepy - video ready C:\\Users\\yurio\\Documents\\github\\Practical_RL\\week04_approx_rl\\videos\\rl-video-episode-74.mp4\n",
      "Moviepy - Building video C:\\Users\\yurio\\Documents\\github\\Practical_RL\\week04_approx_rl\\videos\\rl-video-episode-75.mp4.\n",
      "Moviepy - Writing video C:\\Users\\yurio\\Documents\\github\\Practical_RL\\week04_approx_rl\\videos\\rl-video-episode-75.mp4\n",
      "\n"
     ]
    },
    {
     "name": "stderr",
     "output_type": "stream",
     "text": [
      "                                                                                                                       \r"
     ]
    },
    {
     "name": "stdout",
     "output_type": "stream",
     "text": [
      "Moviepy - Done !\n",
      "Moviepy - video ready C:\\Users\\yurio\\Documents\\github\\Practical_RL\\week04_approx_rl\\videos\\rl-video-episode-75.mp4\n",
      "Moviepy - Building video C:\\Users\\yurio\\Documents\\github\\Practical_RL\\week04_approx_rl\\videos\\rl-video-episode-76.mp4.\n",
      "Moviepy - Writing video C:\\Users\\yurio\\Documents\\github\\Practical_RL\\week04_approx_rl\\videos\\rl-video-episode-76.mp4\n",
      "\n"
     ]
    },
    {
     "name": "stderr",
     "output_type": "stream",
     "text": [
      "                                                                                                                       \r"
     ]
    },
    {
     "name": "stdout",
     "output_type": "stream",
     "text": [
      "Moviepy - Done !\n",
      "Moviepy - video ready C:\\Users\\yurio\\Documents\\github\\Practical_RL\\week04_approx_rl\\videos\\rl-video-episode-76.mp4\n",
      "Moviepy - Building video C:\\Users\\yurio\\Documents\\github\\Practical_RL\\week04_approx_rl\\videos\\rl-video-episode-77.mp4.\n",
      "Moviepy - Writing video C:\\Users\\yurio\\Documents\\github\\Practical_RL\\week04_approx_rl\\videos\\rl-video-episode-77.mp4\n",
      "\n"
     ]
    },
    {
     "name": "stderr",
     "output_type": "stream",
     "text": [
      "                                                                                                                       \r"
     ]
    },
    {
     "name": "stdout",
     "output_type": "stream",
     "text": [
      "Moviepy - Done !\n",
      "Moviepy - video ready C:\\Users\\yurio\\Documents\\github\\Practical_RL\\week04_approx_rl\\videos\\rl-video-episode-77.mp4\n",
      "Moviepy - Building video C:\\Users\\yurio\\Documents\\github\\Practical_RL\\week04_approx_rl\\videos\\rl-video-episode-78.mp4.\n",
      "Moviepy - Writing video C:\\Users\\yurio\\Documents\\github\\Practical_RL\\week04_approx_rl\\videos\\rl-video-episode-78.mp4\n",
      "\n"
     ]
    },
    {
     "name": "stderr",
     "output_type": "stream",
     "text": [
      "                                                                                                                       \r"
     ]
    },
    {
     "name": "stdout",
     "output_type": "stream",
     "text": [
      "Moviepy - Done !\n",
      "Moviepy - video ready C:\\Users\\yurio\\Documents\\github\\Practical_RL\\week04_approx_rl\\videos\\rl-video-episode-78.mp4\n",
      "Moviepy - Building video C:\\Users\\yurio\\Documents\\github\\Practical_RL\\week04_approx_rl\\videos\\rl-video-episode-79.mp4.\n",
      "Moviepy - Writing video C:\\Users\\yurio\\Documents\\github\\Practical_RL\\week04_approx_rl\\videos\\rl-video-episode-79.mp4\n",
      "\n"
     ]
    },
    {
     "name": "stderr",
     "output_type": "stream",
     "text": [
      "                                                                                                                       \r"
     ]
    },
    {
     "name": "stdout",
     "output_type": "stream",
     "text": [
      "Moviepy - Done !\n",
      "Moviepy - video ready C:\\Users\\yurio\\Documents\\github\\Practical_RL\\week04_approx_rl\\videos\\rl-video-episode-79.mp4\n",
      "Moviepy - Building video C:\\Users\\yurio\\Documents\\github\\Practical_RL\\week04_approx_rl\\videos\\rl-video-episode-80.mp4.\n",
      "Moviepy - Writing video C:\\Users\\yurio\\Documents\\github\\Practical_RL\\week04_approx_rl\\videos\\rl-video-episode-80.mp4\n",
      "\n"
     ]
    },
    {
     "name": "stderr",
     "output_type": "stream",
     "text": [
      "                                                                                                                       \r"
     ]
    },
    {
     "name": "stdout",
     "output_type": "stream",
     "text": [
      "Moviepy - Done !\n",
      "Moviepy - video ready C:\\Users\\yurio\\Documents\\github\\Practical_RL\\week04_approx_rl\\videos\\rl-video-episode-80.mp4\n",
      "Moviepy - Building video C:\\Users\\yurio\\Documents\\github\\Practical_RL\\week04_approx_rl\\videos\\rl-video-episode-81.mp4.\n",
      "Moviepy - Writing video C:\\Users\\yurio\\Documents\\github\\Practical_RL\\week04_approx_rl\\videos\\rl-video-episode-81.mp4\n",
      "\n"
     ]
    },
    {
     "name": "stderr",
     "output_type": "stream",
     "text": [
      "                                                                                                                       \r"
     ]
    },
    {
     "name": "stdout",
     "output_type": "stream",
     "text": [
      "Moviepy - Done !\n",
      "Moviepy - video ready C:\\Users\\yurio\\Documents\\github\\Practical_RL\\week04_approx_rl\\videos\\rl-video-episode-81.mp4\n",
      "Moviepy - Building video C:\\Users\\yurio\\Documents\\github\\Practical_RL\\week04_approx_rl\\videos\\rl-video-episode-82.mp4.\n",
      "Moviepy - Writing video C:\\Users\\yurio\\Documents\\github\\Practical_RL\\week04_approx_rl\\videos\\rl-video-episode-82.mp4\n",
      "\n"
     ]
    },
    {
     "name": "stderr",
     "output_type": "stream",
     "text": [
      "                                                                                                                       \r"
     ]
    },
    {
     "name": "stdout",
     "output_type": "stream",
     "text": [
      "Moviepy - Done !\n",
      "Moviepy - video ready C:\\Users\\yurio\\Documents\\github\\Practical_RL\\week04_approx_rl\\videos\\rl-video-episode-82.mp4\n",
      "Moviepy - Building video C:\\Users\\yurio\\Documents\\github\\Practical_RL\\week04_approx_rl\\videos\\rl-video-episode-83.mp4.\n",
      "Moviepy - Writing video C:\\Users\\yurio\\Documents\\github\\Practical_RL\\week04_approx_rl\\videos\\rl-video-episode-83.mp4\n",
      "\n"
     ]
    },
    {
     "name": "stderr",
     "output_type": "stream",
     "text": [
      "                                                                                                                       \r"
     ]
    },
    {
     "name": "stdout",
     "output_type": "stream",
     "text": [
      "Moviepy - Done !\n",
      "Moviepy - video ready C:\\Users\\yurio\\Documents\\github\\Practical_RL\\week04_approx_rl\\videos\\rl-video-episode-83.mp4\n",
      "Moviepy - Building video C:\\Users\\yurio\\Documents\\github\\Practical_RL\\week04_approx_rl\\videos\\rl-video-episode-84.mp4.\n",
      "Moviepy - Writing video C:\\Users\\yurio\\Documents\\github\\Practical_RL\\week04_approx_rl\\videos\\rl-video-episode-84.mp4\n",
      "\n"
     ]
    },
    {
     "name": "stderr",
     "output_type": "stream",
     "text": [
      "                                                                                                                       \r"
     ]
    },
    {
     "name": "stdout",
     "output_type": "stream",
     "text": [
      "Moviepy - Done !\n",
      "Moviepy - video ready C:\\Users\\yurio\\Documents\\github\\Practical_RL\\week04_approx_rl\\videos\\rl-video-episode-84.mp4\n",
      "Moviepy - Building video C:\\Users\\yurio\\Documents\\github\\Practical_RL\\week04_approx_rl\\videos\\rl-video-episode-85.mp4.\n",
      "Moviepy - Writing video C:\\Users\\yurio\\Documents\\github\\Practical_RL\\week04_approx_rl\\videos\\rl-video-episode-85.mp4\n",
      "\n"
     ]
    },
    {
     "name": "stderr",
     "output_type": "stream",
     "text": [
      "                                                                                                                       \r"
     ]
    },
    {
     "name": "stdout",
     "output_type": "stream",
     "text": [
      "Moviepy - Done !\n",
      "Moviepy - video ready C:\\Users\\yurio\\Documents\\github\\Practical_RL\\week04_approx_rl\\videos\\rl-video-episode-85.mp4\n",
      "Moviepy - Building video C:\\Users\\yurio\\Documents\\github\\Practical_RL\\week04_approx_rl\\videos\\rl-video-episode-86.mp4.\n",
      "Moviepy - Writing video C:\\Users\\yurio\\Documents\\github\\Practical_RL\\week04_approx_rl\\videos\\rl-video-episode-86.mp4\n",
      "\n"
     ]
    },
    {
     "name": "stderr",
     "output_type": "stream",
     "text": [
      "                                                                                                                       \r"
     ]
    },
    {
     "name": "stdout",
     "output_type": "stream",
     "text": [
      "Moviepy - Done !\n",
      "Moviepy - video ready C:\\Users\\yurio\\Documents\\github\\Practical_RL\\week04_approx_rl\\videos\\rl-video-episode-86.mp4\n",
      "Moviepy - Building video C:\\Users\\yurio\\Documents\\github\\Practical_RL\\week04_approx_rl\\videos\\rl-video-episode-87.mp4.\n",
      "Moviepy - Writing video C:\\Users\\yurio\\Documents\\github\\Practical_RL\\week04_approx_rl\\videos\\rl-video-episode-87.mp4\n",
      "\n"
     ]
    },
    {
     "name": "stderr",
     "output_type": "stream",
     "text": [
      "                                                                                                                       \r"
     ]
    },
    {
     "name": "stdout",
     "output_type": "stream",
     "text": [
      "Moviepy - Done !\n",
      "Moviepy - video ready C:\\Users\\yurio\\Documents\\github\\Practical_RL\\week04_approx_rl\\videos\\rl-video-episode-87.mp4\n",
      "Moviepy - Building video C:\\Users\\yurio\\Documents\\github\\Practical_RL\\week04_approx_rl\\videos\\rl-video-episode-88.mp4.\n",
      "Moviepy - Writing video C:\\Users\\yurio\\Documents\\github\\Practical_RL\\week04_approx_rl\\videos\\rl-video-episode-88.mp4\n",
      "\n"
     ]
    },
    {
     "name": "stderr",
     "output_type": "stream",
     "text": [
      "                                                                                                                       \r"
     ]
    },
    {
     "name": "stdout",
     "output_type": "stream",
     "text": [
      "Moviepy - Done !\n",
      "Moviepy - video ready C:\\Users\\yurio\\Documents\\github\\Practical_RL\\week04_approx_rl\\videos\\rl-video-episode-88.mp4\n",
      "Moviepy - Building video C:\\Users\\yurio\\Documents\\github\\Practical_RL\\week04_approx_rl\\videos\\rl-video-episode-89.mp4.\n",
      "Moviepy - Writing video C:\\Users\\yurio\\Documents\\github\\Practical_RL\\week04_approx_rl\\videos\\rl-video-episode-89.mp4\n",
      "\n"
     ]
    },
    {
     "name": "stderr",
     "output_type": "stream",
     "text": [
      "                                                                                                                       \r"
     ]
    },
    {
     "name": "stdout",
     "output_type": "stream",
     "text": [
      "Moviepy - Done !\n",
      "Moviepy - video ready C:\\Users\\yurio\\Documents\\github\\Practical_RL\\week04_approx_rl\\videos\\rl-video-episode-89.mp4\n",
      "Moviepy - Building video C:\\Users\\yurio\\Documents\\github\\Practical_RL\\week04_approx_rl\\videos\\rl-video-episode-90.mp4.\n",
      "Moviepy - Writing video C:\\Users\\yurio\\Documents\\github\\Practical_RL\\week04_approx_rl\\videos\\rl-video-episode-90.mp4\n",
      "\n"
     ]
    },
    {
     "name": "stderr",
     "output_type": "stream",
     "text": [
      "                                                                                                                       \r"
     ]
    },
    {
     "name": "stdout",
     "output_type": "stream",
     "text": [
      "Moviepy - Done !\n",
      "Moviepy - video ready C:\\Users\\yurio\\Documents\\github\\Practical_RL\\week04_approx_rl\\videos\\rl-video-episode-90.mp4\n",
      "Moviepy - Building video C:\\Users\\yurio\\Documents\\github\\Practical_RL\\week04_approx_rl\\videos\\rl-video-episode-91.mp4.\n",
      "Moviepy - Writing video C:\\Users\\yurio\\Documents\\github\\Practical_RL\\week04_approx_rl\\videos\\rl-video-episode-91.mp4\n",
      "\n"
     ]
    },
    {
     "name": "stderr",
     "output_type": "stream",
     "text": [
      "                                                                                                                       \r"
     ]
    },
    {
     "name": "stdout",
     "output_type": "stream",
     "text": [
      "Moviepy - Done !\n",
      "Moviepy - video ready C:\\Users\\yurio\\Documents\\github\\Practical_RL\\week04_approx_rl\\videos\\rl-video-episode-91.mp4\n",
      "Moviepy - Building video C:\\Users\\yurio\\Documents\\github\\Practical_RL\\week04_approx_rl\\videos\\rl-video-episode-92.mp4.\n",
      "Moviepy - Writing video C:\\Users\\yurio\\Documents\\github\\Practical_RL\\week04_approx_rl\\videos\\rl-video-episode-92.mp4\n",
      "\n"
     ]
    },
    {
     "name": "stderr",
     "output_type": "stream",
     "text": [
      "                                                                                                                       \r"
     ]
    },
    {
     "name": "stdout",
     "output_type": "stream",
     "text": [
      "Moviepy - Done !\n",
      "Moviepy - video ready C:\\Users\\yurio\\Documents\\github\\Practical_RL\\week04_approx_rl\\videos\\rl-video-episode-92.mp4\n",
      "Moviepy - Building video C:\\Users\\yurio\\Documents\\github\\Practical_RL\\week04_approx_rl\\videos\\rl-video-episode-93.mp4.\n",
      "Moviepy - Writing video C:\\Users\\yurio\\Documents\\github\\Practical_RL\\week04_approx_rl\\videos\\rl-video-episode-93.mp4\n",
      "\n"
     ]
    },
    {
     "name": "stderr",
     "output_type": "stream",
     "text": [
      "                                                                                                                       \r"
     ]
    },
    {
     "name": "stdout",
     "output_type": "stream",
     "text": [
      "Moviepy - Done !\n",
      "Moviepy - video ready C:\\Users\\yurio\\Documents\\github\\Practical_RL\\week04_approx_rl\\videos\\rl-video-episode-93.mp4\n",
      "Moviepy - Building video C:\\Users\\yurio\\Documents\\github\\Practical_RL\\week04_approx_rl\\videos\\rl-video-episode-94.mp4.\n",
      "Moviepy - Writing video C:\\Users\\yurio\\Documents\\github\\Practical_RL\\week04_approx_rl\\videos\\rl-video-episode-94.mp4\n",
      "\n"
     ]
    },
    {
     "name": "stderr",
     "output_type": "stream",
     "text": [
      "                                                                                                                       \r"
     ]
    },
    {
     "name": "stdout",
     "output_type": "stream",
     "text": [
      "Moviepy - Done !\n",
      "Moviepy - video ready C:\\Users\\yurio\\Documents\\github\\Practical_RL\\week04_approx_rl\\videos\\rl-video-episode-94.mp4\n",
      "Moviepy - Building video C:\\Users\\yurio\\Documents\\github\\Practical_RL\\week04_approx_rl\\videos\\rl-video-episode-95.mp4.\n",
      "Moviepy - Writing video C:\\Users\\yurio\\Documents\\github\\Practical_RL\\week04_approx_rl\\videos\\rl-video-episode-95.mp4\n",
      "\n"
     ]
    },
    {
     "name": "stderr",
     "output_type": "stream",
     "text": [
      "                                                                                                                       \r"
     ]
    },
    {
     "name": "stdout",
     "output_type": "stream",
     "text": [
      "Moviepy - Done !\n",
      "Moviepy - video ready C:\\Users\\yurio\\Documents\\github\\Practical_RL\\week04_approx_rl\\videos\\rl-video-episode-95.mp4\n",
      "Moviepy - Building video C:\\Users\\yurio\\Documents\\github\\Practical_RL\\week04_approx_rl\\videos\\rl-video-episode-96.mp4.\n",
      "Moviepy - Writing video C:\\Users\\yurio\\Documents\\github\\Practical_RL\\week04_approx_rl\\videos\\rl-video-episode-96.mp4\n",
      "\n"
     ]
    },
    {
     "name": "stderr",
     "output_type": "stream",
     "text": [
      "                                                                                                                       \r"
     ]
    },
    {
     "name": "stdout",
     "output_type": "stream",
     "text": [
      "Moviepy - Done !\n",
      "Moviepy - video ready C:\\Users\\yurio\\Documents\\github\\Practical_RL\\week04_approx_rl\\videos\\rl-video-episode-96.mp4\n",
      "Moviepy - Building video C:\\Users\\yurio\\Documents\\github\\Practical_RL\\week04_approx_rl\\videos\\rl-video-episode-97.mp4.\n",
      "Moviepy - Writing video C:\\Users\\yurio\\Documents\\github\\Practical_RL\\week04_approx_rl\\videos\\rl-video-episode-97.mp4\n",
      "\n"
     ]
    },
    {
     "name": "stderr",
     "output_type": "stream",
     "text": [
      "                                                                                                                       \r"
     ]
    },
    {
     "name": "stdout",
     "output_type": "stream",
     "text": [
      "Moviepy - Done !\n",
      "Moviepy - video ready C:\\Users\\yurio\\Documents\\github\\Practical_RL\\week04_approx_rl\\videos\\rl-video-episode-97.mp4\n",
      "Moviepy - Building video C:\\Users\\yurio\\Documents\\github\\Practical_RL\\week04_approx_rl\\videos\\rl-video-episode-98.mp4.\n",
      "Moviepy - Writing video C:\\Users\\yurio\\Documents\\github\\Practical_RL\\week04_approx_rl\\videos\\rl-video-episode-98.mp4\n",
      "\n"
     ]
    },
    {
     "name": "stderr",
     "output_type": "stream",
     "text": [
      "                                                                                                                       \r"
     ]
    },
    {
     "name": "stdout",
     "output_type": "stream",
     "text": [
      "Moviepy - Done !\n",
      "Moviepy - video ready C:\\Users\\yurio\\Documents\\github\\Practical_RL\\week04_approx_rl\\videos\\rl-video-episode-98.mp4\n",
      "Moviepy - Building video C:\\Users\\yurio\\Documents\\github\\Practical_RL\\week04_approx_rl\\videos\\rl-video-episode-99.mp4.\n",
      "Moviepy - Writing video C:\\Users\\yurio\\Documents\\github\\Practical_RL\\week04_approx_rl\\videos\\rl-video-episode-99.mp4\n",
      "\n"
     ]
    },
    {
     "name": "stderr",
     "output_type": "stream",
     "text": [
      "                                                                                                                       \r"
     ]
    },
    {
     "name": "stdout",
     "output_type": "stream",
     "text": [
      "Moviepy - Done !\n",
      "Moviepy - video ready C:\\Users\\yurio\\Documents\\github\\Practical_RL\\week04_approx_rl\\videos\\rl-video-episode-99.mp4\n"
     ]
    }
   ],
   "source": [
    "# Record sessions\n",
    "\n",
    "from gymnasium.wrappers import RecordVideo\n",
    "\n",
    "record_env = gym.make(\"CartPole-v1\", render_mode=\"rgb_array\")\n",
    "env_monitor = RecordVideo(record_env, video_folder=\"videos\", episode_trigger=lambda x: True)\n",
    "sessions = [generate_session(env_monitor, epsilon=0, train=False) for _ in range(100)]\n"
   ]
  },
  {
   "cell_type": "code",
   "execution_count": 16,
   "metadata": {
    "id": "afqi2qomEmiC"
   },
   "outputs": [
    {
     "data": {
      "text/html": [
       "\n",
       "<video width=\"640\" height=\"480\" controls>\n",
       "  <source src=\"videos\\rl-video-episode-99.mp4\" type=\"video/mp4\">\n",
       "</video>\n"
      ],
      "text/plain": [
       "<IPython.core.display.HTML object>"
      ]
     },
     "execution_count": 16,
     "metadata": {},
     "output_type": "execute_result"
    }
   ],
   "source": [
    "# Show video. This may not work in some setups. If it doesn't\n",
    "# work for you, you can download the videos and view them locally.\n",
    "\n",
    "from pathlib import Path\n",
    "from base64 import b64encode\n",
    "from IPython.display import HTML\n",
    "\n",
    "video_paths = sorted([s for s in Path('videos').iterdir() if s.suffix == '.mp4'])\n",
    "video_path = video_paths[-1]  # You can also try other indices\n",
    "\n",
    "if 'google.colab' in sys.modules:\n",
    "    # https://stackoverflow.com/a/57378660/1214547\n",
    "    with video_path.open('rb') as fp:\n",
    "        mp4 = fp.read()\n",
    "    data_url = 'data:video/mp4;base64,' + b64encode(mp4).decode()\n",
    "else:\n",
    "    data_url = str(video_path)\n",
    "\n",
    "HTML(\"\"\"\n",
    "<video width=\"640\" height=\"480\" controls>\n",
    "  <source src=\"{}\" type=\"video/mp4\">\n",
    "</video>\n",
    "\"\"\".format(data_url))"
   ]
  },
  {
   "cell_type": "code",
   "execution_count": null,
   "metadata": {},
   "outputs": [],
   "source": []
  }
 ],
 "metadata": {
  "colab": {
   "provenance": []
  },
  "kernelspec": {
   "display_name": "Python 3 (ipykernel)",
   "language": "python",
   "name": "python3"
  },
  "language_info": {
   "codemirror_mode": {
    "name": "ipython",
    "version": 3
   },
   "file_extension": ".py",
   "mimetype": "text/x-python",
   "name": "python",
   "nbconvert_exporter": "python",
   "pygments_lexer": "ipython3",
   "version": "3.11.5"
  }
 },
 "nbformat": 4,
 "nbformat_minor": 4
}
